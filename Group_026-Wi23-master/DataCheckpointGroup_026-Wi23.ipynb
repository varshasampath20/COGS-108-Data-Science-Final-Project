{
 "cells": [
  {
   "cell_type": "markdown",
   "metadata": {},
   "source": [
    "# COGS 108 - Data Checkpoint"
   ]
  },
  {
   "cell_type": "markdown",
   "metadata": {},
   "source": [
    "# Names\n",
    "\n",
    "- Elise Davis\n",
    "- Kody Chuang  \n",
    "- Anna Sim \n",
    "- Varsha Sampath"
   ]
  },
  {
   "cell_type": "markdown",
   "metadata": {},
   "source": [
    "<a id='research_question'></a>\n",
    "# Research Question"
   ]
  },
  {
   "cell_type": "markdown",
   "metadata": {},
   "source": [
    "What is the correlation between median income and percentage of adults with diabetes in different American cities?"
   ]
  },
  {
   "cell_type": "markdown",
   "metadata": {},
   "source": [
    "# Dataset(s)"
   ]
  },
  {
   "cell_type": "markdown",
   "metadata": {},
   "source": [
    "*Fill in your dataset information here*\n",
    "\n",
    "**Dataset #1**\n",
    "- Dataset Name: US Household Income Statistics\n",
    "- Link to the dataset: https://www.kaggle.com/datasets/goldenoakresearch/us-household-income-stats-geo-locations \n",
    "- Number of observations: \n",
    "32,000 records on US Household Income Statistics, including mean income for each city.\n",
    "\n",
    "**Dataset #2**\n",
    "- Dataset Name: 500 Cities: Diagnosed Diabetes among adults\n",
    "- Link to the dataset: https://chronicdata.cdc.gov/500-Cities-Places/500-Cities-Diagnosed-diabetes-among-adults-aged-18/cn78-b9bj/data \n",
    "- Number of observations: 29,006\n",
    "Records for percent of people in each city (of thousands) that have been diagnosed with diabetes.\n",
    "\n",
    "We plan to cross reference the cities in each data set to combine the mean income data and the diabetes data, to then analyze and uncover any correlation."
   ]
  },
  {
   "cell_type": "markdown",
   "metadata": {},
   "source": [
    "# Setup"
   ]
  },
  {
   "cell_type": "code",
   "execution_count": 1,
   "metadata": {},
   "outputs": [],
   "source": [
    "# import pandas & numpy library\n",
    "import pandas as pd\n",
    "import numpy as np\n",
    "\n",
    "# Import seaborn and apply its plotting styles\n",
    "import seaborn as sns\n",
    "sns.set(font_scale=2, style=\"white\")\n",
    "\n",
    "# import matplotlib\n",
    "import matplotlib as mpl\n",
    "import matplotlib.pyplot as plt\n",
    "import matplotlib.style as style\n",
    "# set plotting size parameter\n",
    "plt.rcParams['figure.figsize'] = (12, 5)"
   ]
  },
  {
   "cell_type": "markdown",
   "metadata": {},
   "source": [
    "# Data Cleaning"
   ]
  },
  {
   "cell_type": "markdown",
   "metadata": {},
   "source": [
    "Describe your data cleaning steps here."
   ]
  },
  {
   "cell_type": "code",
   "execution_count": 9,
   "metadata": {},
   "outputs": [
    {
     "data": {
      "text/html": "<div>\n<style scoped>\n    .dataframe tbody tr th:only-of-type {\n        vertical-align: middle;\n    }\n\n    .dataframe tbody tr th {\n        vertical-align: top;\n    }\n\n    .dataframe thead th {\n        text-align: right;\n    }\n</style>\n<table border=\"1\" class=\"dataframe\">\n  <thead>\n    <tr style=\"text-align: right;\">\n      <th></th>\n      <th>Year</th>\n      <th>StateAbbr</th>\n      <th>StateDesc</th>\n      <th>CityName</th>\n      <th>GeographicLevel</th>\n      <th>DataSource</th>\n      <th>Category</th>\n      <th>UniqueID</th>\n      <th>Measure</th>\n      <th>Data_Value_Unit</th>\n      <th>...</th>\n      <th>High_Confidence_Limit</th>\n      <th>Data_Value_Footnote_Symbol</th>\n      <th>Data_Value_Footnote</th>\n      <th>PopulationCount</th>\n      <th>GeoLocation</th>\n      <th>CategoryID</th>\n      <th>MeasureId</th>\n      <th>CityFIPS</th>\n      <th>TractFIPS</th>\n      <th>Short_Question_Text</th>\n    </tr>\n  </thead>\n  <tbody>\n    <tr>\n      <th>0</th>\n      <td>2017</td>\n      <td>CA</td>\n      <td>California</td>\n      <td>Inglewood</td>\n      <td>Census Tract</td>\n      <td>BRFSS</td>\n      <td>Health Outcomes</td>\n      <td>0636546-06037601801</td>\n      <td>Diagnosed diabetes among adults aged &gt;=18 Years</td>\n      <td>%</td>\n      <td>...</td>\n      <td>13.5</td>\n      <td>NaN</td>\n      <td>NaN</td>\n      <td>2,472</td>\n      <td>(33.9439711273, -118.349937728)</td>\n      <td>HLTHOUT</td>\n      <td>DIABETES</td>\n      <td>636546.0</td>\n      <td>6.037602e+09</td>\n      <td>Diabetes</td>\n    </tr>\n    <tr>\n      <th>1</th>\n      <td>2017</td>\n      <td>AL</td>\n      <td>Alabama</td>\n      <td>Huntsville</td>\n      <td>Census Tract</td>\n      <td>BRFSS</td>\n      <td>Health Outcomes</td>\n      <td>0137000-01089002922</td>\n      <td>Diagnosed diabetes among adults aged &gt;=18 Years</td>\n      <td>%</td>\n      <td>...</td>\n      <td>10.3</td>\n      <td>NaN</td>\n      <td>NaN</td>\n      <td>4,387</td>\n      <td>(34.612755588, -86.5329568642)</td>\n      <td>HLTHOUT</td>\n      <td>DIABETES</td>\n      <td>137000.0</td>\n      <td>1.089003e+09</td>\n      <td>Diabetes</td>\n    </tr>\n    <tr>\n      <th>2</th>\n      <td>2017</td>\n      <td>AK</td>\n      <td>Alaska</td>\n      <td>Anchorage</td>\n      <td>Census Tract</td>\n      <td>BRFSS</td>\n      <td>Health Outcomes</td>\n      <td>0203000-02020002501</td>\n      <td>Diagnosed diabetes among adults aged &gt;=18 Years</td>\n      <td>%</td>\n      <td>...</td>\n      <td>7.8</td>\n      <td>NaN</td>\n      <td>NaN</td>\n      <td>4,993</td>\n      <td>(61.1593945029, -149.899866691)</td>\n      <td>HLTHOUT</td>\n      <td>DIABETES</td>\n      <td>203000.0</td>\n      <td>2.020003e+09</td>\n      <td>Diabetes</td>\n    </tr>\n    <tr>\n      <th>3</th>\n      <td>2017</td>\n      <td>AZ</td>\n      <td>Arizona</td>\n      <td>Tempe</td>\n      <td>Census Tract</td>\n      <td>BRFSS</td>\n      <td>Health Outcomes</td>\n      <td>0473000-04013319907</td>\n      <td>Diagnosed diabetes among adults aged &gt;=18 Years</td>\n      <td>%</td>\n      <td>...</td>\n      <td>7.9</td>\n      <td>NaN</td>\n      <td>NaN</td>\n      <td>2,225</td>\n      <td>(33.3419171912, -111.919809152)</td>\n      <td>HLTHOUT</td>\n      <td>DIABETES</td>\n      <td>473000.0</td>\n      <td>4.013320e+09</td>\n      <td>Diabetes</td>\n    </tr>\n    <tr>\n      <th>4</th>\n      <td>2017</td>\n      <td>AZ</td>\n      <td>Arizona</td>\n      <td>Yuma</td>\n      <td>City</td>\n      <td>BRFSS</td>\n      <td>Health Outcomes</td>\n      <td>0485540</td>\n      <td>Diagnosed diabetes among adults aged &gt;=18 Years</td>\n      <td>%</td>\n      <td>...</td>\n      <td>11.3</td>\n      <td>NaN</td>\n      <td>NaN</td>\n      <td>93,064</td>\n      <td>(32.5986027117, -114.54836837)</td>\n      <td>HLTHOUT</td>\n      <td>DIABETES</td>\n      <td>485540.0</td>\n      <td>NaN</td>\n      <td>Diabetes</td>\n    </tr>\n  </tbody>\n</table>\n<p>5 rows × 24 columns</p>\n</div>",
      "text/plain": "   Year StateAbbr   StateDesc    CityName GeographicLevel DataSource  \\\n0  2017        CA  California   Inglewood    Census Tract      BRFSS   \n1  2017        AL     Alabama  Huntsville    Census Tract      BRFSS   \n2  2017        AK      Alaska   Anchorage    Census Tract      BRFSS   \n3  2017        AZ     Arizona       Tempe    Census Tract      BRFSS   \n4  2017        AZ     Arizona        Yuma            City      BRFSS   \n\n          Category             UniqueID  \\\n0  Health Outcomes  0636546-06037601801   \n1  Health Outcomes  0137000-01089002922   \n2  Health Outcomes  0203000-02020002501   \n3  Health Outcomes  0473000-04013319907   \n4  Health Outcomes              0485540   \n\n                                           Measure Data_Value_Unit  ...  \\\n0  Diagnosed diabetes among adults aged >=18 Years               %  ...   \n1  Diagnosed diabetes among adults aged >=18 Years               %  ...   \n2  Diagnosed diabetes among adults aged >=18 Years               %  ...   \n3  Diagnosed diabetes among adults aged >=18 Years               %  ...   \n4  Diagnosed diabetes among adults aged >=18 Years               %  ...   \n\n  High_Confidence_Limit Data_Value_Footnote_Symbol  Data_Value_Footnote  \\\n0                  13.5                        NaN                  NaN   \n1                  10.3                        NaN                  NaN   \n2                   7.8                        NaN                  NaN   \n3                   7.9                        NaN                  NaN   \n4                  11.3                        NaN                  NaN   \n\n   PopulationCount                      GeoLocation CategoryID MeasureId  \\\n0            2,472  (33.9439711273, -118.349937728)    HLTHOUT  DIABETES   \n1            4,387   (34.612755588, -86.5329568642)    HLTHOUT  DIABETES   \n2            4,993  (61.1593945029, -149.899866691)    HLTHOUT  DIABETES   \n3            2,225  (33.3419171912, -111.919809152)    HLTHOUT  DIABETES   \n4           93,064   (32.5986027117, -114.54836837)    HLTHOUT  DIABETES   \n\n   CityFIPS     TractFIPS Short_Question_Text  \n0  636546.0  6.037602e+09            Diabetes  \n1  137000.0  1.089003e+09            Diabetes  \n2  203000.0  2.020003e+09            Diabetes  \n3  473000.0  4.013320e+09            Diabetes  \n4  485540.0           NaN            Diabetes  \n\n[5 rows x 24 columns]"
     },
     "execution_count": 9,
     "metadata": {},
     "output_type": "execute_result"
    }
   ],
   "source": [
    "diabetes = pd.read_csv(\"Diagnosed_Diabetes.csv\")\n",
    "diabetes.head()\n"
   ]
  },
  {
   "cell_type": "code",
   "execution_count": 10,
   "metadata": {},
   "outputs": [
    {
     "data": {
      "text/html": "<div>\n<style scoped>\n    .dataframe tbody tr th:only-of-type {\n        vertical-align: middle;\n    }\n\n    .dataframe tbody tr th {\n        vertical-align: top;\n    }\n\n    .dataframe thead th {\n        text-align: right;\n    }\n</style>\n<table border=\"1\" class=\"dataframe\">\n  <thead>\n    <tr style=\"text-align: right;\">\n      <th></th>\n      <th>id</th>\n      <th>State_Code</th>\n      <th>State_Name</th>\n      <th>State_ab</th>\n      <th>County</th>\n      <th>City</th>\n      <th>Place</th>\n      <th>Type</th>\n      <th>Primary</th>\n      <th>Zip_Code</th>\n      <th>Area_Code</th>\n      <th>ALand</th>\n      <th>AWater</th>\n      <th>Lat</th>\n      <th>Lon</th>\n      <th>Mean</th>\n      <th>Median</th>\n      <th>Stdev</th>\n      <th>sum_w</th>\n    </tr>\n  </thead>\n  <tbody>\n    <tr>\n      <th>0</th>\n      <td>1011000</td>\n      <td>1</td>\n      <td>Alabama</td>\n      <td>AL</td>\n      <td>Mobile County</td>\n      <td>Chickasaw</td>\n      <td>Chickasaw city</td>\n      <td>City</td>\n      <td>place</td>\n      <td>36611</td>\n      <td>251</td>\n      <td>10894952</td>\n      <td>909156</td>\n      <td>30.771450</td>\n      <td>-88.079697</td>\n      <td>38773</td>\n      <td>30506</td>\n      <td>33101</td>\n      <td>1638.260513</td>\n    </tr>\n    <tr>\n      <th>1</th>\n      <td>1011010</td>\n      <td>1</td>\n      <td>Alabama</td>\n      <td>AL</td>\n      <td>Barbour County</td>\n      <td>Louisville</td>\n      <td>Clio city</td>\n      <td>City</td>\n      <td>place</td>\n      <td>36048</td>\n      <td>334</td>\n      <td>26070325</td>\n      <td>23254</td>\n      <td>31.708516</td>\n      <td>-85.611039</td>\n      <td>37725</td>\n      <td>19528</td>\n      <td>43789</td>\n      <td>258.017685</td>\n    </tr>\n    <tr>\n      <th>2</th>\n      <td>1011020</td>\n      <td>1</td>\n      <td>Alabama</td>\n      <td>AL</td>\n      <td>Shelby County</td>\n      <td>Columbiana</td>\n      <td>Columbiana city</td>\n      <td>City</td>\n      <td>place</td>\n      <td>35051</td>\n      <td>205</td>\n      <td>44835274</td>\n      <td>261034</td>\n      <td>33.191452</td>\n      <td>-86.615618</td>\n      <td>54606</td>\n      <td>31930</td>\n      <td>57348</td>\n      <td>926.031000</td>\n    </tr>\n    <tr>\n      <th>3</th>\n      <td>1011030</td>\n      <td>1</td>\n      <td>Alabama</td>\n      <td>AL</td>\n      <td>Mobile County</td>\n      <td>Satsuma</td>\n      <td>Creola city</td>\n      <td>City</td>\n      <td>place</td>\n      <td>36572</td>\n      <td>251</td>\n      <td>36878729</td>\n      <td>2374530</td>\n      <td>30.874343</td>\n      <td>-88.009442</td>\n      <td>63919</td>\n      <td>52814</td>\n      <td>47707</td>\n      <td>378.114619</td>\n    </tr>\n    <tr>\n      <th>4</th>\n      <td>1011040</td>\n      <td>1</td>\n      <td>Alabama</td>\n      <td>AL</td>\n      <td>Mobile County</td>\n      <td>Dauphin Island</td>\n      <td>Dauphin Island</td>\n      <td>Town</td>\n      <td>place</td>\n      <td>36528</td>\n      <td>251</td>\n      <td>16204185</td>\n      <td>413605152</td>\n      <td>30.250913</td>\n      <td>-88.171268</td>\n      <td>77948</td>\n      <td>67225</td>\n      <td>54270</td>\n      <td>282.320328</td>\n    </tr>\n  </tbody>\n</table>\n</div>",
      "text/plain": "        id  State_Code State_Name State_ab          County            City  \\\n0  1011000           1    Alabama       AL   Mobile County       Chickasaw   \n1  1011010           1    Alabama       AL  Barbour County      Louisville   \n2  1011020           1    Alabama       AL   Shelby County      Columbiana   \n3  1011030           1    Alabama       AL   Mobile County         Satsuma   \n4  1011040           1    Alabama       AL   Mobile County  Dauphin Island   \n\n             Place  Type Primary  Zip_Code Area_Code     ALand     AWater  \\\n0   Chickasaw city  City   place     36611       251  10894952     909156   \n1        Clio city  City   place     36048       334  26070325      23254   \n2  Columbiana city  City   place     35051       205  44835274     261034   \n3      Creola city  City   place     36572       251  36878729    2374530   \n4   Dauphin Island  Town   place     36528       251  16204185  413605152   \n\n         Lat        Lon   Mean  Median  Stdev        sum_w  \n0  30.771450 -88.079697  38773   30506  33101  1638.260513  \n1  31.708516 -85.611039  37725   19528  43789   258.017685  \n2  33.191452 -86.615618  54606   31930  57348   926.031000  \n3  30.874343 -88.009442  63919   52814  47707   378.114619  \n4  30.250913 -88.171268  77948   67225  54270   282.320328  "
     },
     "execution_count": 10,
     "metadata": {},
     "output_type": "execute_result"
    }
   ],
   "source": [
    "income = pd.read_csv(\"kaggle_income.csv\", encoding='latin-1')\n",
    "income.head()"
   ]
  },
  {
   "cell_type": "markdown",
   "metadata": {},
   "source": [
    "**Descriptive Statistics**"
   ]
  },
  {
   "cell_type": "code",
   "execution_count": 11,
   "metadata": {},
   "outputs": [
    {
     "data": {
      "text/plain": "(29006, 24)"
     },
     "execution_count": 11,
     "metadata": {},
     "output_type": "execute_result"
    }
   ],
   "source": [
    "diabetes.shape"
   ]
  },
  {
   "cell_type": "code",
   "execution_count": 13,
   "metadata": {},
   "outputs": [
    {
     "data": {
      "text/html": "<div>\n<style scoped>\n    .dataframe tbody tr th:only-of-type {\n        vertical-align: middle;\n    }\n\n    .dataframe tbody tr th {\n        vertical-align: top;\n    }\n\n    .dataframe thead th {\n        text-align: right;\n    }\n</style>\n<table border=\"1\" class=\"dataframe\">\n  <thead>\n    <tr style=\"text-align: right;\">\n      <th></th>\n      <th>Year</th>\n      <th>Data_Value</th>\n      <th>Low_Confidence_Limit</th>\n      <th>High_Confidence_Limit</th>\n      <th>CityFIPS</th>\n      <th>TractFIPS</th>\n    </tr>\n  </thead>\n  <tbody>\n    <tr>\n      <th>count</th>\n      <td>29006.0</td>\n      <td>28212.000000</td>\n      <td>28212.000000</td>\n      <td>28212.000000</td>\n      <td>2.900400e+04</td>\n      <td>2.800400e+04</td>\n    </tr>\n    <tr>\n      <th>mean</th>\n      <td>2017.0</td>\n      <td>10.791167</td>\n      <td>10.121019</td>\n      <td>11.469446</td>\n      <td>2.607162e+06</td>\n      <td>2.593797e+10</td>\n    </tr>\n    <tr>\n      <th>std</th>\n      <td>0.0</td>\n      <td>4.220925</td>\n      <td>4.009712</td>\n      <td>4.422918</td>\n      <td>1.686484e+06</td>\n      <td>1.675674e+10</td>\n    </tr>\n    <tr>\n      <th>min</th>\n      <td>2017.0</td>\n      <td>0.800000</td>\n      <td>0.600000</td>\n      <td>0.900000</td>\n      <td>1.500300e+04</td>\n      <td>1.073000e+09</td>\n    </tr>\n    <tr>\n      <th>25%</th>\n      <td>2017.0</td>\n      <td>7.900000</td>\n      <td>7.300000</td>\n      <td>8.500000</td>\n      <td>6.813440e+05</td>\n      <td>8.001009e+09</td>\n    </tr>\n    <tr>\n      <th>50%</th>\n      <td>2017.0</td>\n      <td>10.000000</td>\n      <td>9.400000</td>\n      <td>10.700000</td>\n      <td>2.622000e+06</td>\n      <td>2.608100e+10</td>\n    </tr>\n    <tr>\n      <th>75%</th>\n      <td>2017.0</td>\n      <td>12.900000</td>\n      <td>12.100000</td>\n      <td>13.600000</td>\n      <td>4.055000e+06</td>\n      <td>4.010911e+10</td>\n    </tr>\n    <tr>\n      <th>max</th>\n      <td>2017.0</td>\n      <td>39.500000</td>\n      <td>36.400000</td>\n      <td>42.200000</td>\n      <td>5.613900e+06</td>\n      <td>5.602100e+10</td>\n    </tr>\n  </tbody>\n</table>\n</div>",
      "text/plain": "          Year    Data_Value  Low_Confidence_Limit  High_Confidence_Limit  \\\ncount  29006.0  28212.000000          28212.000000           28212.000000   \nmean    2017.0     10.791167             10.121019              11.469446   \nstd        0.0      4.220925              4.009712               4.422918   \nmin     2017.0      0.800000              0.600000               0.900000   \n25%     2017.0      7.900000              7.300000               8.500000   \n50%     2017.0     10.000000              9.400000              10.700000   \n75%     2017.0     12.900000             12.100000              13.600000   \nmax     2017.0     39.500000             36.400000              42.200000   \n\n           CityFIPS     TractFIPS  \ncount  2.900400e+04  2.800400e+04  \nmean   2.607162e+06  2.593797e+10  \nstd    1.686484e+06  1.675674e+10  \nmin    1.500300e+04  1.073000e+09  \n25%    6.813440e+05  8.001009e+09  \n50%    2.622000e+06  2.608100e+10  \n75%    4.055000e+06  4.010911e+10  \nmax    5.613900e+06  5.602100e+10  "
     },
     "execution_count": 13,
     "metadata": {},
     "output_type": "execute_result"
    }
   ],
   "source": [
    "diabetes.describe()"
   ]
  },
  {
   "cell_type": "code",
   "execution_count": 12,
   "metadata": {},
   "outputs": [
    {
     "data": {
      "text/plain": "(32526, 19)"
     },
     "execution_count": 12,
     "metadata": {},
     "output_type": "execute_result"
    }
   ],
   "source": [
    "income.shape"
   ]
  },
  {
   "cell_type": "code",
   "execution_count": 14,
   "metadata": {},
   "outputs": [
    {
     "data": {
      "text/html": "<div>\n<style scoped>\n    .dataframe tbody tr th:only-of-type {\n        vertical-align: middle;\n    }\n\n    .dataframe tbody tr th {\n        vertical-align: top;\n    }\n\n    .dataframe thead th {\n        text-align: right;\n    }\n</style>\n<table border=\"1\" class=\"dataframe\">\n  <thead>\n    <tr style=\"text-align: right;\">\n      <th></th>\n      <th>id</th>\n      <th>State_Code</th>\n      <th>Zip_Code</th>\n      <th>ALand</th>\n      <th>AWater</th>\n      <th>Lat</th>\n      <th>Lon</th>\n      <th>Mean</th>\n      <th>Median</th>\n      <th>Stdev</th>\n      <th>sum_w</th>\n    </tr>\n  </thead>\n  <tbody>\n    <tr>\n      <th>count</th>\n      <td>3.252600e+04</td>\n      <td>32526.000000</td>\n      <td>32526.000000</td>\n      <td>3.252600e+04</td>\n      <td>3.252600e+04</td>\n      <td>32526.000000</td>\n      <td>32526.000000</td>\n      <td>32526.000000</td>\n      <td>32526.000000</td>\n      <td>32526.000000</td>\n      <td>32526.000000</td>\n    </tr>\n    <tr>\n      <th>mean</th>\n      <td>6.203707e+07</td>\n      <td>28.624885</td>\n      <td>50182.648404</td>\n      <td>1.165893e+08</td>\n      <td>6.952054e+06</td>\n      <td>37.731983</td>\n      <td>-91.303844</td>\n      <td>66703.986042</td>\n      <td>85452.938818</td>\n      <td>47273.695321</td>\n      <td>576.910273</td>\n    </tr>\n    <tr>\n      <th>std</th>\n      <td>1.115546e+08</td>\n      <td>16.297205</td>\n      <td>29410.122808</td>\n      <td>1.280894e+09</td>\n      <td>2.092093e+08</td>\n      <td>5.579450</td>\n      <td>16.227588</td>\n      <td>30451.194599</td>\n      <td>87810.895132</td>\n      <td>16555.486882</td>\n      <td>3911.006939</td>\n    </tr>\n    <tr>\n      <th>min</th>\n      <td>1.026000e+03</td>\n      <td>1.000000</td>\n      <td>601.000000</td>\n      <td>0.000000e+00</td>\n      <td>0.000000e+00</td>\n      <td>17.929085</td>\n      <td>-175.860041</td>\n      <td>0.000000</td>\n      <td>0.000000</td>\n      <td>0.000000</td>\n      <td>0.000000</td>\n    </tr>\n    <tr>\n      <th>25%</th>\n      <td>8.021282e+06</td>\n      <td>13.000000</td>\n      <td>26362.000000</td>\n      <td>1.906991e+06</td>\n      <td>0.000000e+00</td>\n      <td>34.013469</td>\n      <td>-97.664034</td>\n      <td>46015.500000</td>\n      <td>36046.250000</td>\n      <td>36075.000000</td>\n      <td>201.436458</td>\n    </tr>\n    <tr>\n      <th>50%</th>\n      <td>2.901168e+07</td>\n      <td>29.000000</td>\n      <td>48163.000000</td>\n      <td>5.022976e+06</td>\n      <td>2.703350e+04</td>\n      <td>38.925588</td>\n      <td>-87.139280</td>\n      <td>60738.000000</td>\n      <td>51874.500000</td>\n      <td>46179.000000</td>\n      <td>329.482618</td>\n    </tr>\n    <tr>\n      <th>75%</th>\n      <td>4.802899e+07</td>\n      <td>42.000000</td>\n      <td>76712.000000</td>\n      <td>3.090984e+07</td>\n      <td>5.082078e+05</td>\n      <td>41.495793</td>\n      <td>-79.852969</td>\n      <td>82223.500000</td>\n      <td>80915.000000</td>\n      <td>58078.000000</td>\n      <td>590.227670</td>\n    </tr>\n    <tr>\n      <th>max</th>\n      <td>4.802211e+08</td>\n      <td>72.000000</td>\n      <td>99950.000000</td>\n      <td>9.163267e+10</td>\n      <td>2.453228e+10</td>\n      <td>71.253500</td>\n      <td>-65.500823</td>\n      <td>242857.000000</td>\n      <td>300000.000000</td>\n      <td>113936.000000</td>\n      <td>612241.922964</td>\n    </tr>\n  </tbody>\n</table>\n</div>",
      "text/plain": "                 id    State_Code      Zip_Code         ALand        AWater  \\\ncount  3.252600e+04  32526.000000  32526.000000  3.252600e+04  3.252600e+04   \nmean   6.203707e+07     28.624885  50182.648404  1.165893e+08  6.952054e+06   \nstd    1.115546e+08     16.297205  29410.122808  1.280894e+09  2.092093e+08   \nmin    1.026000e+03      1.000000    601.000000  0.000000e+00  0.000000e+00   \n25%    8.021282e+06     13.000000  26362.000000  1.906991e+06  0.000000e+00   \n50%    2.901168e+07     29.000000  48163.000000  5.022976e+06  2.703350e+04   \n75%    4.802899e+07     42.000000  76712.000000  3.090984e+07  5.082078e+05   \nmax    4.802211e+08     72.000000  99950.000000  9.163267e+10  2.453228e+10   \n\n                Lat           Lon           Mean         Median  \\\ncount  32526.000000  32526.000000   32526.000000   32526.000000   \nmean      37.731983    -91.303844   66703.986042   85452.938818   \nstd        5.579450     16.227588   30451.194599   87810.895132   \nmin       17.929085   -175.860041       0.000000       0.000000   \n25%       34.013469    -97.664034   46015.500000   36046.250000   \n50%       38.925588    -87.139280   60738.000000   51874.500000   \n75%       41.495793    -79.852969   82223.500000   80915.000000   \nmax       71.253500    -65.500823  242857.000000  300000.000000   \n\n               Stdev          sum_w  \ncount   32526.000000   32526.000000  \nmean    47273.695321     576.910273  \nstd     16555.486882    3911.006939  \nmin         0.000000       0.000000  \n25%     36075.000000     201.436458  \n50%     46179.000000     329.482618  \n75%     58078.000000     590.227670  \nmax    113936.000000  612241.922964  "
     },
     "execution_count": 14,
     "metadata": {},
     "output_type": "execute_result"
    }
   ],
   "source": [
    "income.describe()"
   ]
  },
  {
   "cell_type": "code",
   "execution_count": 57,
   "metadata": {},
   "outputs": [
    {
     "name": "stdout",
     "output_type": "stream",
     "text": [
      "['California' 'Alabama' 'Alaska' 'Arizona' 'Connecticut' 'Delaware'\n",
      " 'Florida' 'Colorado' 'Indiana' 'Iowa' 'Kansas' 'Louisiana'\n",
      " 'Massachusetts' 'Minnesota' 'Mississippi' 'New Hampshire' 'New Jersey'\n",
      " 'New York' 'North Carolin' 'North Dakota' 'Ohio' 'Oklahoma' 'Oregon'\n",
      " 'Pennsylvania' 'Rhode Island' 'South Carolin' 'Tennessee' 'Texas'\n",
      " 'Virginia' 'Washington' 'Wisconsin' 'United States' 'Arkansas' 'Illinois'\n",
      " 'District of C' 'Georgia' 'Hawaii' 'Idaho' 'Kentucky' 'Maryland'\n",
      " 'Michigan' 'Maine' 'Missouri' 'Nevada' 'Nebraska' 'Montana' 'New Mexico'\n",
      " 'South Dakota' 'Utah' 'Vermont' 'Wyoming' 'West Virginia']\n",
      "['Inglewood' 'Huntsville' 'Anchorage' 'Tempe' 'Yuma' 'Antioch' 'Burbank'\n",
      " 'Folsom' 'Moreno Valley' 'Palmdale' 'Riverside' 'Roseville'\n",
      " 'San Francisco' 'San Jose' 'Stamford' 'Wilmington' 'Cape Coral'\n",
      " 'Hollywood' 'Melbourne' 'Pompano Beach' 'Santa Clara' 'Santa Maria'\n",
      " 'Thousand Oaks' 'Union City' 'Vacaville' 'West Covina' 'Fort Collins'\n",
      " 'Thornton' 'Lafayette' 'Des Moines' 'Sioux City' 'Olathe' 'Boston'\n",
      " 'Cambridge' 'Brooklyn Park' 'Gulfport' 'Manchester' 'Nashua'\n",
      " 'Jersey City' 'New York' 'Rochester' 'Syracuse' 'Yonkers' 'Asheville'\n",
      " 'Charlotte' 'Concord' 'Fayetteville' 'Raleigh' 'Fargo' 'Cleveland'\n",
      " 'Columbus' 'Broken Arrow' 'Lawton' 'Tulsa' 'Gresham' 'Salem' 'Bethlehem'\n",
      " 'Erie' 'Warwick' 'Columbia' 'Knoxville' 'Memphis' 'Austin' 'Beaumont'\n",
      " 'Dallas' 'Fort Worth' 'Garland' 'Alexandria' 'Chesapeake' 'Hampton'\n",
      " 'Newport News' 'Virginia Beach' 'Federal Way' 'Yakima' 'Green Bay'\n",
      " 'Gilbert' 'Milwaukee' 'Waukesha' 'Birmingham' 'Chandler' 'Mobile'\n",
      " 'Hoover' 'Tuscaloosa' 'Montgomery' 'Avondale' nan 'Killeen' 'Longview'\n",
      " 'McKinney' 'Plano' 'Phoenix' 'Glendale' 'Mesa' 'Peoria' 'Corona'\n",
      " 'Anaheim' 'Tucson' 'Little Rock' 'Surprise' 'Alhambra' 'Scottsdale'\n",
      " 'Springdale' 'Fort Smith' 'Jonesboro' 'Alameda' 'Daly City' 'Bakersfield'\n",
      " 'Berkeley' 'Chula Vista' 'Bellflower' 'Compton' 'Downey' 'Carson'\n",
      " 'Carlsbad' 'Buena Park' 'Citrus Heights' 'Chino' 'Costa Mesa'\n",
      " 'Apple Valley' 'Clovis' 'Baldwin Park' 'Chico' 'Chino Hills' 'Long Beach'\n",
      " 'Elk Grove' 'Fresno' 'El Cajon' 'Fontana' 'Escondido' 'El Monte'\n",
      " 'Hayward' 'Hawthorne' 'Fullerton' 'Fairfield' 'Fremont' 'Garden Grove'\n",
      " 'Lake Forest' 'Irvine' 'Huntington Beach' 'Lakewood' 'Lancaster'\n",
      " 'Hesperia' 'Indio' 'Hemet' 'Livermore' 'Arvada' 'Los Angeles'\n",
      " 'Mission Viejo' 'Newport Beach' 'Menifee' 'Napa' 'Murrieta' 'Manteca'\n",
      " 'Milpitas' 'Modesto' 'Merced' 'Mountain View' 'Norwalk' 'Lynwood'\n",
      " 'San Diego' 'Oakland' 'Rialto' 'Orange' 'Pomona' 'Richmond'\n",
      " 'Rancho Cucamonga' 'Pleasanton' 'Oxnard' 'Redding' 'Pasadena' 'Redlands'\n",
      " 'Ontario' 'Redwood City' 'Perris' 'Oceanside' 'Redondo Beach'\n",
      " 'Sacramento' 'San Bernardino' 'Salinas' 'San Buenaventura (Ventura)'\n",
      " 'Whittier' 'San Mateo' 'San Ramon' 'San Marcos' 'San Leandro'\n",
      " 'Westminster' 'Vallejo' 'Santa Barbara' 'Torrance' 'Simi Valley'\n",
      " 'Santa Ana' 'Stockton' 'Upland' 'Tustin' 'Turlock' 'Santa Clarita'\n",
      " 'Tracy' 'Santa Rosa' 'South Gate' 'Temecula' 'Sunnyvale' 'Santa Monica'\n",
      " 'Bridgeport' 'Visalia' 'Denver' 'Boulder' 'Colorado Springs'\n",
      " 'Victorville' 'Aurora' 'Centennial' 'Vista' 'Chicago' 'Longmont'\n",
      " 'New Britain' 'Waterbury' 'Danbury' 'Pueblo' 'New Haven' 'Hartford'\n",
      " 'Greeley' 'Loveland' 'Gainesville' 'Clearwater' 'Hialeah' 'Coral Springs'\n",
      " 'Washington' 'Deerfield Beach' 'Fort Lauderdale' 'Davie' 'Deltona'\n",
      " 'Boca Raton' 'Boynton Beach' 'Jacksonville' 'Lakeland' 'Orlando' 'Miami'\n",
      " 'Palm Bay' 'Lauderhill' 'Palm Coast' 'Largo' 'Miami Beach'\n",
      " 'Miami Gardens' 'Miramar' 'St. Petersburg' 'Tampa' 'Tallahassee'\n",
      " 'Sunrise' 'Port St. Lucie' 'Pembroke Pines' 'Atlanta' 'Athens'\n",
      " 'West Palm Beach' 'Plantation' 'Albany' 'Honolulu' 'Boise City' 'Macon'\n",
      " 'Augusta' 'Nampa' 'Savannah' 'Johns Creek' 'Sandy Springs' 'Meridian'\n",
      " 'Roswell' 'Warner Robins' 'Bloomington' 'Bolingbrook' 'Champaign'\n",
      " 'Arlington Heights' 'Elgin' 'Palatine' 'Evanston' 'Decatur' 'Cicero'\n",
      " 'Naperville' 'Joliet' 'Waukegan' 'Indianapolis' 'Evansville' 'Rockford'\n",
      " 'Gary' 'Springfield' 'Fort Wayne' 'Fishers' 'Schaumburg' 'Carmel'\n",
      " 'Hammond' 'Wichita' 'New Orleans' 'Overland Park' 'Muncie' 'Topeka'\n",
      " 'South Bend' 'Waterloo' 'Lawrence' 'Kansas City' 'Cedar Rapids'\n",
      " 'Davenport' 'Iowa City' 'Baton Rouge' 'Louisville' 'Lake Charles'\n",
      " 'Lexington' 'Kenner' 'Baltimore' 'Brockton' 'Shreveport' 'Detroit'\n",
      " 'Portland' 'Lowell' 'Lynn' 'New Bedford' 'Ann Arbor' 'Fall River'\n",
      " 'Quincy' 'Worcester' 'Somerville' 'Dearborn' 'Newton' 'Grand Rapids'\n",
      " 'Sterling Heights' 'Duluth' 'Kalamazoo' 'Westland' 'Lansing' 'Flint'\n",
      " 'Warren' 'Wyoming' 'Livonia' 'Southfield' 'Farmington Hills'\n",
      " 'Rochester Hills' 'Troy' 'Paterson' 'Plymouth' 'Minneapolis' 'Jackson'\n",
      " 'Independence' 'St. Joseph' \"Lee's Summit\" 'St. Paul' \"O'Fallon\"\n",
      " 'Las Vegas' 'Omaha' 'Billings' 'St. Louis' 'Henderson' 'Lincoln'\n",
      " 'Missoula' 'Clifton' 'Sparks' 'Reno' 'North Las Vegas' 'Newark' 'Camden'\n",
      " 'Elizabeth' 'Passaic' 'Trenton' 'Albuquerque' 'Santa Fe' 'Mount Vernon'\n",
      " 'Las Cruces' 'Buffalo' 'New Rochelle' 'Gastonia' 'Rio Rancho' 'Durham'\n",
      " 'Winston-Salem' 'Greenville' 'Cary' 'Schenectady' 'Greensboro'\n",
      " 'High Point' 'Cincinnati' 'Canton' 'Akron' 'Rock Hill' 'Oklahoma City'\n",
      " 'Parma' 'Dayton' 'Edmond' 'Norman' 'Youngstown' 'Toledo' 'Sioux Falls'\n",
      " 'Beaverton' 'Medford' 'Eugene' 'Bend' 'Hillsboro' 'Philadelphia'\n",
      " 'Pittsburgh' 'Allentown' 'Arlington' 'Rapid City' 'Charleston' 'Scranton'\n",
      " 'Chattanooga' 'Clarksville' 'Providence' 'North Charleston' 'Reading'\n",
      " 'Pawtucket' 'Mount Pleasant' 'Cranston' 'Amarillo' 'Murfreesboro'\n",
      " 'Abilene' 'Nashville' 'Allen' 'Brownsville' 'Baytown' 'Carrollton'\n",
      " 'Corpus Christi' 'College Station' 'Bryan' 'El Paso' 'Denton' 'Frisco'\n",
      " 'Edinburg' 'Houston' 'Grand Prairie' 'Laredo' 'Lewisville' 'Lubbock'\n",
      " 'Mission' 'Mesquite' 'McAllen' 'Missouri City' 'Odessa' 'League City'\n",
      " 'Midland' 'Pearland' 'Irving' 'Kenosha' 'Vancouver' 'San Antonio'\n",
      " 'San Angelo' 'Waco' 'Wichita Falls' 'Pharr' 'Round Rock' 'Richardson'\n",
      " 'Sugar Land' 'Tyler' 'Ogden' 'Portsmouth' 'Provo' 'West Jordan' 'Sandy'\n",
      " 'Norfolk' 'Burlington' 'Orem' 'Layton' 'West Valley City' 'Lynchburg'\n",
      " 'Salt Lake City' 'St. George' 'Kennewick' 'Suffolk' 'Seattle' 'Auburn'\n",
      " 'Kent' 'Bellingham' 'Everett' 'Roanoke' 'Renton' 'Bellevue' 'Spokane'\n",
      " 'Appleton' 'Spokane Valley' 'Tacoma' 'Cheyenne' 'Madison' 'Racine']\n"
     ]
    }
   ],
   "source": [
    "list_of_cities = diabetes['StateDesc'].unique()\n",
    "list_of_states = diabetes['CityName'].unique()\n",
    "print(list_of_cities)\n",
    "print(list_of_states)"
   ]
  },
  {
   "cell_type": "code",
   "execution_count": 80,
   "metadata": {},
   "outputs": [
    {
     "name": "stdout",
     "output_type": "stream",
     "text": [
      "(269, 19)\n",
      "['New York' 'Washington' 'Wyoming']\n"
     ]
    }
   ],
   "source": [
    "income_for_diabetes = income.loc[income['City'].isin(list_of_cities)]\n",
    "print(income_for_diabetes.shape)\n",
    "list_of_states = income_for_diabetes['State_Name'].unique()\n",
    "list_of_cities = income_for_diabetes['City'].unique()\n",
    "\n",
    "diabetes_for_income = diabetes.loc[diabetes['CityName'].isin(list_of_cities)]"
   ]
  },
  {
   "cell_type": "code",
   "execution_count": 71,
   "metadata": {},
   "outputs": [
    {
     "data": {
      "text/html": "<div>\n<style scoped>\n    .dataframe tbody tr th:only-of-type {\n        vertical-align: middle;\n    }\n\n    .dataframe tbody tr th {\n        vertical-align: top;\n    }\n\n    .dataframe thead th {\n        text-align: right;\n    }\n</style>\n<table border=\"1\" class=\"dataframe\">\n  <thead>\n    <tr style=\"text-align: right;\">\n      <th></th>\n      <th>id</th>\n      <th>State_Code</th>\n      <th>State_Name</th>\n      <th>State_ab</th>\n      <th>County</th>\n      <th>City</th>\n      <th>Place</th>\n      <th>Type</th>\n      <th>Primary</th>\n      <th>Zip_Code</th>\n      <th>Area_Code</th>\n      <th>ALand</th>\n      <th>AWater</th>\n      <th>Lat</th>\n      <th>Lon</th>\n      <th>Mean</th>\n      <th>Median</th>\n      <th>Stdev</th>\n      <th>sum_w</th>\n    </tr>\n  </thead>\n  <tbody>\n    <tr>\n      <th>5837</th>\n      <td>11012</td>\n      <td>11</td>\n      <td>District of Columbia</td>\n      <td>DC</td>\n      <td>District of</td>\n      <td>Washington</td>\n      <td>Washington city</td>\n      <td>City</td>\n      <td>place</td>\n      <td>20001</td>\n      <td>202</td>\n      <td>158364992</td>\n      <td>18633403</td>\n      <td>38.904103</td>\n      <td>-77.017229</td>\n      <td>92477</td>\n      <td>71044</td>\n      <td>76702</td>\n      <td>129368.599311</td>\n    </tr>\n    <tr>\n      <th>5838</th>\n      <td>11021</td>\n      <td>11</td>\n      <td>District of Columbia</td>\n      <td>DC</td>\n      <td>District of Columbia</td>\n      <td>Washington</td>\n      <td>Washington city</td>\n      <td>Track</td>\n      <td>Track</td>\n      <td>20007</td>\n      <td>202</td>\n      <td>1907610</td>\n      <td>512798</td>\n      <td>38.906017</td>\n      <td>-77.060187</td>\n      <td>166647</td>\n      <td>181669</td>\n      <td>80640</td>\n      <td>511.071842</td>\n    </tr>\n    <tr>\n      <th>5839</th>\n      <td>1102101</td>\n      <td>11</td>\n      <td>District of Columbia</td>\n      <td>DC</td>\n      <td>District of Columbia</td>\n      <td>Washington</td>\n      <td>Washington city</td>\n      <td>Track</td>\n      <td>Track</td>\n      <td>20020</td>\n      <td>202</td>\n      <td>615798</td>\n      <td>0</td>\n      <td>38.856633</td>\n      <td>-76.969545</td>\n      <td>39559</td>\n      <td>25631</td>\n      <td>45420</td>\n      <td>1295.318050</td>\n    </tr>\n    <tr>\n      <th>5840</th>\n      <td>110211</td>\n      <td>11</td>\n      <td>District of Columbia</td>\n      <td>DC</td>\n      <td>District of Columbia</td>\n      <td>Washington</td>\n      <td>Washington city</td>\n      <td>Track</td>\n      <td>Track</td>\n      <td>20016</td>\n      <td>202</td>\n      <td>2931409</td>\n      <td>144814</td>\n      <td>38.923767</td>\n      <td>-77.091734</td>\n      <td>137357</td>\n      <td>122567</td>\n      <td>91353</td>\n      <td>966.956474</td>\n    </tr>\n    <tr>\n      <th>5841</th>\n      <td>1102111</td>\n      <td>11</td>\n      <td>District of Columbia</td>\n      <td>DC</td>\n      <td>District of Columbia</td>\n      <td>Washington</td>\n      <td>Washington city</td>\n      <td>Track</td>\n      <td>Track</td>\n      <td>20003</td>\n      <td>202</td>\n      <td>838021</td>\n      <td>86864</td>\n      <td>38.880057</td>\n      <td>-76.967493</td>\n      <td>42904</td>\n      <td>33693</td>\n      <td>41090</td>\n      <td>757.531972</td>\n    </tr>\n  </tbody>\n</table>\n</div>",
      "text/plain": "           id  State_Code            State_Name State_ab  \\\n5837    11012          11  District of Columbia       DC   \n5838    11021          11  District of Columbia       DC   \n5839  1102101          11  District of Columbia       DC   \n5840   110211          11  District of Columbia       DC   \n5841  1102111          11  District of Columbia       DC   \n\n                    County        City            Place   Type Primary  \\\n5837           District of  Washington  Washington city   City   place   \n5838  District of Columbia  Washington  Washington city  Track   Track   \n5839  District of Columbia  Washington  Washington city  Track   Track   \n5840  District of Columbia  Washington  Washington city  Track   Track   \n5841  District of Columbia  Washington  Washington city  Track   Track   \n\n      Zip_Code Area_Code      ALand    AWater        Lat        Lon    Mean  \\\n5837     20001       202  158364992  18633403  38.904103 -77.017229   92477   \n5838     20007       202    1907610    512798  38.906017 -77.060187  166647   \n5839     20020       202     615798         0  38.856633 -76.969545   39559   \n5840     20016       202    2931409    144814  38.923767 -77.091734  137357   \n5841     20003       202     838021     86864  38.880057 -76.967493   42904   \n\n      Median  Stdev          sum_w  \n5837   71044  76702  129368.599311  \n5838  181669  80640     511.071842  \n5839   25631  45420    1295.318050  \n5840  122567  91353     966.956474  \n5841   33693  41090     757.531972  "
     },
     "execution_count": 71,
     "metadata": {},
     "output_type": "execute_result"
    }
   ],
   "source": [
    "income_for_diabetes.head()"
   ]
  },
  {
   "cell_type": "code",
   "execution_count": null,
   "metadata": {},
   "outputs": [],
   "source": [
    "combined_df = income_for_diabetes[['State_Name', 'City', 'Zip_Code', 'Mean', 'Median', 'Stdev']].copy()"
   ]
  }
 ],
 "metadata": {
  "kernelspec": {
   "display_name": "Python 3",
   "language": "python",
   "name": "python3"
  },
  "language_info": {
   "codemirror_mode": {
    "name": "ipython",
    "version": 3
   },
   "file_extension": ".py",
   "mimetype": "text/x-python",
   "name": "python",
   "nbconvert_exporter": "python",
   "pygments_lexer": "ipython3",
   "version": "3.7.9"
  }
 },
 "nbformat": 4,
 "nbformat_minor": 2
}