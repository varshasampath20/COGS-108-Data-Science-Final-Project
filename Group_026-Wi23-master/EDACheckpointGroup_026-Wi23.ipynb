{
 "cells": [
  {
   "cell_type": "markdown",
   "metadata": {},
   "source": [
    "# COGS 108 - Diabetes in America and it's Impact on Low Income Cities"
   ]
  },
  {
   "cell_type": "markdown",
   "metadata": {},
   "source": [
    "## Permissions"
   ]
  },
  {
   "cell_type": "markdown",
   "metadata": {},
   "source": [
    "Place an X in the appropriate bracket below to specify if you would like your group's project to be made available to the public. (Note that student names will be included (but PIDs will be scraped from any groups who include their PIDs).\n",
    "\n",
    "- [ X ] YES - make available\n",
    "- [   ] NO - keep private"
   ]
  },
  {
   "cell_type": "markdown",
   "metadata": {},
   "source": [
    "## Overview"
   ]
  },
  {
   "cell_type": "markdown",
   "metadata": {},
   "source": [
    "# to be added !"
   ]
  },
  {
   "cell_type": "markdown",
   "metadata": {},
   "source": [
    "# Names\n",
    "\n",
    "Varsha Sampath\\\n",
    "Elise Davis\\\n",
    "Kody Chuang\\\n",
    "Anna Sim"
   ]
  },
  {
   "cell_type": "markdown",
   "metadata": {},
   "source": [
    "<a id='research_question'></a>\n",
    "# Research Question"
   ]
  },
  {
   "cell_type": "markdown",
   "metadata": {},
   "source": [
    "*Is there a correlation between median income and rate of diabetes diagnosis?*"
   ]
  },
  {
   "cell_type": "markdown",
   "metadata": {},
   "source": [
    "## Background & Prior Work"
   ]
  },
  {
   "cell_type": "markdown",
   "metadata": {},
   "source": [
    "Extensive research on diabetes shows that it is one of the most prevalent issues affecting people in the US. According to the National Diabetes Statistics Report of 2022, diabetes affects 11.3 % of the US population[1]. In 2021 more than 100,000 people died because of diabetes and relative complications, making it the eighth leading cause of death according to the CDC [2].\n",
    "\n",
    "In 2017 American Diabetes Association (ADA) estimated that the total cost of diabetes for the healthcare system was \n",
    "327\n",
    "b\n",
    "i\n",
    "l\n",
    "l\n",
    "i\n",
    "o\n",
    "n\n",
    "c\n",
    "o\n",
    "m\n",
    "p\n",
    "a\n",
    "r\n",
    "e\n",
    "d\n",
    "t\n",
    "o\n",
    "245 billion in 2012. It is a 26% increase over the five-year period[5].\n",
    "\n",
    "Additionally, diabetes disproportionately affects low-income households. The CDC reports that the comparative statistics on people from middle-income, near-poor, and poor households are 40.0%, 74.1%, and 100.4%[3]. 2020 Review on Social Determinants of Diabetes states that three major factors contributing to the risk of diabetes are education, income, and occupation[4].\n",
    "\n",
    "The number of people who are diagnosed with diabetes is rising every year. CDC report on 'Disparities in the Prevalence of Diagnosed Diabetes'' in the US shows that the number of people with diabetes has significantly increased when comparing 1999–2002 to 2011–2014[3].\n",
    "\n",
    "The literature review showed that several studies looked at the relationship between socioeconomic status and the risk of diabetes in different countries. For example, a 2001 study: 'Socioeconomic status and type 2 diabetes in African American and non-Hispanic white women and men: evidence from the Third National Health and Nutrition Examination Survey,' showed a significant association between Type 2 Diabetes and socioeconomic status[6] . Additionally, Type 2 diabetes has a stronger association with Poverty Income Ratio than with education or occupation[6]. In the last few years, more and more data is becoming available, and there is an ongoing demand for continuous analysis of this public health issue. We examined the relationship between median household income in the major US cities and the number of people with diabetes.\n",
    "\n",
    "Citations:\n",
    "\n",
    "[1] Centers for Disease Control and Prevention. (2022, October 25). By the numbers: Diabetes in America. Centers for Disease Control and Prevention. Retrieved March 5, 2023, from https://www.cdc.gov/diabetes/health-equity/diabetes-by-the-numbers.html\n",
    "\n",
    "[2] Centers for Disease Control and Prevention. (2023, January 18). FASTSTATS - leading causes of death. Centers for Disease Control and Prevention. Retrieved March 5, 2023, from https://www.cdc.gov/nchs/fastats/leading-causes-of-death.htm\n",
    "\n",
    "[5] The cost of diabetes. The Cost of Diabetes | ADA. (n.d.). Retrieved March 5, 2023, from https://diabetes.org/about-us/statistics/cost-diabetes\n",
    "\n",
    "[3] Centers for Disease Control and Prevention. (2017, August 14). Disparities in the prevalence of diagnosed diabetes - United States, 1999–2002 and 2011–2014. Centers for Disease Control and Prevention. Retrieved March 5, 2023, from https://www.cdc.gov/mmwr/volumes/65/wr/mm6545a4.htm\n",
    "\n",
    "[4] Felicia Hill-Briggs, Nancy E. Adler, Seth A. Berkowitz, Marshall H. Chin, Tiffany L. Gary-Webb, Ana Navas-Acien, Pamela L. Thornton, Debra Haire-Joshu; Social Determinants of Health and Diabetes: A Scientific Review. Diabetes Care 1 January 2021; 44 (1): 258–279. https://doi.org/10.2337/dci20-0053\n",
    "\n",
    "[6] Robbins JM, Vaccarino V, Zhang H, Kasl SV. Socioeconomic status and type 2 diabetes in African American and non-Hispanic white women and men: evidence from the Third National Health and Nutrition Examination Survey. Am J Public Health. 2001 Jan;91(1):76-83. doi: 10.2105/ajph.91.1.76. PMID: 11189829; PMCID: PMC1446485."
   ]
  },
  {
   "cell_type": "markdown",
   "metadata": {},
   "source": [
    "# Hypothesis"
   ]
  },
  {
   "cell_type": "markdown",
   "metadata": {},
   "source": [
    "$H_{0}$: There is no correlation between median income and rate of diabetes diagnosis.\\\n",
    "$H_{a}$: Rate of diabetes diagnosis is inversely proportional to median income."
   ]
  },
  {
   "cell_type": "markdown",
   "metadata": {},
   "source": [
    "# Dataset(s)"
   ]
  },
  {
   "cell_type": "markdown",
   "metadata": {},
   "source": [
    "**Dataset #1**\n",
    "- Dataset Name: US Household Income Statistics\n",
    "- Link to the dataset: https://www.kaggle.com/datasets/goldenoakresearch/us-household-income-stats-geo-locations \n",
    "- Number of observations: \n",
    "32,000 records on US Household Income Statistics, including mean income for each city.\n",
    "\n",
    "**Dataset #2**\n",
    "- Dataset Name: 500 Cities: Diagnosed Diabetes among adults\n",
    "- Link to the dataset: https://chronicdata.cdc.gov/500-Cities-Places/500-Cities-Diagnosed-diabetes-among-adults-aged-18/cn78-b9bj/data \n",
    "- Number of observations: 29,006\n",
    "Records for percent of people in each city (of thousands) that have been diagnosed with diabetes.\n",
    "\n",
    "We plan to cross reference the cities in each data set to combine the mean income data and the diabetes data, to then analyze and uncover any correlation."
   ]
  },
  {
   "cell_type": "markdown",
   "metadata": {},
   "source": [
    "# Setup"
   ]
  },
  {
   "cell_type": "code",
   "execution_count": 1,
   "metadata": {},
   "outputs": [],
   "source": [
    "# import pandas & numpy library\n",
    "import pandas as pd\n",
    "import numpy as np\n",
    "# pd.set_option(\"display.max_columns\", 104)\n",
    "\n",
    "# Import seaborn and apply its plotting styles\n",
    "import seaborn as sns\n",
    "sns.set(font_scale=2, style=\"white\")\n",
    "\n",
    "# import matplotlib\n",
    "import matplotlib as mpl\n",
    "import matplotlib.pyplot as plt\n",
    "import matplotlib.style as style\n",
    "\n",
    "# set plotting size parameter\n",
    "plt.rcParams['figure.figsize'] = (12, 5)\n",
    "\n",
    "import warnings\n",
    "warnings.filterwarnings('ignore')"
   ]
  },
  {
   "cell_type": "markdown",
   "metadata": {},
   "source": [
    "# Data Cleaning"
   ]
  },
  {
   "cell_type": "markdown",
   "metadata": {},
   "source": [
    "### Dataset #1 Cleaning"
   ]
  },
  {
   "cell_type": "markdown",
   "metadata": {},
   "source": [
    "Firstly, we sorted the values by area land and dropped the duplicates that occurred in data collection. After that, unnecessary columns were dropped. We ended up with 8128 observations."
   ]
  },
  {
   "cell_type": "code",
   "execution_count": 2,
   "metadata": {
    "scrolled": true
   },
   "outputs": [
    {
     "data": {
      "text/html": [
       "<div>\n",
       "<style scoped>\n",
       "    .dataframe tbody tr th:only-of-type {\n",
       "        vertical-align: middle;\n",
       "    }\n",
       "\n",
       "    .dataframe tbody tr th {\n",
       "        vertical-align: top;\n",
       "    }\n",
       "\n",
       "    .dataframe thead th {\n",
       "        text-align: right;\n",
       "    }\n",
       "</style>\n",
       "<table border=\"1\" class=\"dataframe\">\n",
       "  <thead>\n",
       "    <tr style=\"text-align: right;\">\n",
       "      <th></th>\n",
       "      <th>id</th>\n",
       "      <th>State_Code</th>\n",
       "      <th>State_Name</th>\n",
       "      <th>State_ab</th>\n",
       "      <th>County</th>\n",
       "      <th>City</th>\n",
       "      <th>Place</th>\n",
       "      <th>Type</th>\n",
       "      <th>Primary</th>\n",
       "      <th>Zip_Code</th>\n",
       "      <th>Area_Code</th>\n",
       "      <th>ALand</th>\n",
       "      <th>AWater</th>\n",
       "      <th>Lat</th>\n",
       "      <th>Lon</th>\n",
       "      <th>Mean</th>\n",
       "      <th>Median</th>\n",
       "      <th>Stdev</th>\n",
       "      <th>sum_w</th>\n",
       "    </tr>\n",
       "  </thead>\n",
       "  <tbody>\n",
       "    <tr>\n",
       "      <th>0</th>\n",
       "      <td>1011000</td>\n",
       "      <td>1</td>\n",
       "      <td>Alabama</td>\n",
       "      <td>AL</td>\n",
       "      <td>Mobile County</td>\n",
       "      <td>Chickasaw</td>\n",
       "      <td>Chickasaw city</td>\n",
       "      <td>City</td>\n",
       "      <td>place</td>\n",
       "      <td>36611</td>\n",
       "      <td>251</td>\n",
       "      <td>10894952</td>\n",
       "      <td>909156</td>\n",
       "      <td>30.771450</td>\n",
       "      <td>-88.079697</td>\n",
       "      <td>38773</td>\n",
       "      <td>30506</td>\n",
       "      <td>33101</td>\n",
       "      <td>1638.260513</td>\n",
       "    </tr>\n",
       "    <tr>\n",
       "      <th>1</th>\n",
       "      <td>1011010</td>\n",
       "      <td>1</td>\n",
       "      <td>Alabama</td>\n",
       "      <td>AL</td>\n",
       "      <td>Barbour County</td>\n",
       "      <td>Louisville</td>\n",
       "      <td>Clio city</td>\n",
       "      <td>City</td>\n",
       "      <td>place</td>\n",
       "      <td>36048</td>\n",
       "      <td>334</td>\n",
       "      <td>26070325</td>\n",
       "      <td>23254</td>\n",
       "      <td>31.708516</td>\n",
       "      <td>-85.611039</td>\n",
       "      <td>37725</td>\n",
       "      <td>19528</td>\n",
       "      <td>43789</td>\n",
       "      <td>258.017685</td>\n",
       "    </tr>\n",
       "    <tr>\n",
       "      <th>2</th>\n",
       "      <td>1011020</td>\n",
       "      <td>1</td>\n",
       "      <td>Alabama</td>\n",
       "      <td>AL</td>\n",
       "      <td>Shelby County</td>\n",
       "      <td>Columbiana</td>\n",
       "      <td>Columbiana city</td>\n",
       "      <td>City</td>\n",
       "      <td>place</td>\n",
       "      <td>35051</td>\n",
       "      <td>205</td>\n",
       "      <td>44835274</td>\n",
       "      <td>261034</td>\n",
       "      <td>33.191452</td>\n",
       "      <td>-86.615618</td>\n",
       "      <td>54606</td>\n",
       "      <td>31930</td>\n",
       "      <td>57348</td>\n",
       "      <td>926.031000</td>\n",
       "    </tr>\n",
       "    <tr>\n",
       "      <th>3</th>\n",
       "      <td>1011030</td>\n",
       "      <td>1</td>\n",
       "      <td>Alabama</td>\n",
       "      <td>AL</td>\n",
       "      <td>Mobile County</td>\n",
       "      <td>Satsuma</td>\n",
       "      <td>Creola city</td>\n",
       "      <td>City</td>\n",
       "      <td>place</td>\n",
       "      <td>36572</td>\n",
       "      <td>251</td>\n",
       "      <td>36878729</td>\n",
       "      <td>2374530</td>\n",
       "      <td>30.874343</td>\n",
       "      <td>-88.009442</td>\n",
       "      <td>63919</td>\n",
       "      <td>52814</td>\n",
       "      <td>47707</td>\n",
       "      <td>378.114619</td>\n",
       "    </tr>\n",
       "    <tr>\n",
       "      <th>4</th>\n",
       "      <td>1011040</td>\n",
       "      <td>1</td>\n",
       "      <td>Alabama</td>\n",
       "      <td>AL</td>\n",
       "      <td>Mobile County</td>\n",
       "      <td>Dauphin Island</td>\n",
       "      <td>Dauphin Island</td>\n",
       "      <td>Town</td>\n",
       "      <td>place</td>\n",
       "      <td>36528</td>\n",
       "      <td>251</td>\n",
       "      <td>16204185</td>\n",
       "      <td>413605152</td>\n",
       "      <td>30.250913</td>\n",
       "      <td>-88.171268</td>\n",
       "      <td>77948</td>\n",
       "      <td>67225</td>\n",
       "      <td>54270</td>\n",
       "      <td>282.320328</td>\n",
       "    </tr>\n",
       "  </tbody>\n",
       "</table>\n",
       "</div>"
      ],
      "text/plain": [
       "        id  State_Code State_Name State_ab          County            City  \\\n",
       "0  1011000           1    Alabama       AL   Mobile County       Chickasaw   \n",
       "1  1011010           1    Alabama       AL  Barbour County      Louisville   \n",
       "2  1011020           1    Alabama       AL   Shelby County      Columbiana   \n",
       "3  1011030           1    Alabama       AL   Mobile County         Satsuma   \n",
       "4  1011040           1    Alabama       AL   Mobile County  Dauphin Island   \n",
       "\n",
       "             Place  Type Primary  Zip_Code Area_Code     ALand     AWater  \\\n",
       "0   Chickasaw city  City   place     36611       251  10894952     909156   \n",
       "1        Clio city  City   place     36048       334  26070325      23254   \n",
       "2  Columbiana city  City   place     35051       205  44835274     261034   \n",
       "3      Creola city  City   place     36572       251  36878729    2374530   \n",
       "4   Dauphin Island  Town   place     36528       251  16204185  413605152   \n",
       "\n",
       "         Lat        Lon   Mean  Median  Stdev        sum_w  \n",
       "0  30.771450 -88.079697  38773   30506  33101  1638.260513  \n",
       "1  31.708516 -85.611039  37725   19528  43789   258.017685  \n",
       "2  33.191452 -86.615618  54606   31930  57348   926.031000  \n",
       "3  30.874343 -88.009442  63919   52814  47707   378.114619  \n",
       "4  30.250913 -88.171268  77948   67225  54270   282.320328  "
      ]
     },
     "execution_count": 2,
     "metadata": {},
     "output_type": "execute_result"
    }
   ],
   "source": [
    "inc = pd.read_csv(\"kaggle_income.csv\", na_filter = True, encoding='latin-1')\n",
    "inc.head()"
   ]
  },
  {
   "cell_type": "code",
   "execution_count": 3,
   "metadata": {},
   "outputs": [],
   "source": [
    "inc = inc.sort_values(by = 'ALand', ascending = False)\\\n",
    "                        .drop_duplicates(subset=['City'])\\\n",
    "                        .reset_index(drop= True)"
   ]
  },
  {
   "cell_type": "code",
   "execution_count": 4,
   "metadata": {},
   "outputs": [],
   "source": [
    "inc = inc.drop(columns = ['id', 'State_Code', 'County',\n",
    "                          'Place', 'Type', 'Primary',\n",
    "                          'Zip_Code', 'Area_Code', 'ALand',\n",
    "                          'AWater', 'Lat','Lon', 'sum_w' ])"
   ]
  },
  {
   "cell_type": "code",
   "execution_count": 5,
   "metadata": {},
   "outputs": [
    {
     "data": {
      "text/html": [
       "<div>\n",
       "<style scoped>\n",
       "    .dataframe tbody tr th:only-of-type {\n",
       "        vertical-align: middle;\n",
       "    }\n",
       "\n",
       "    .dataframe tbody tr th {\n",
       "        vertical-align: top;\n",
       "    }\n",
       "\n",
       "    .dataframe thead th {\n",
       "        text-align: right;\n",
       "    }\n",
       "</style>\n",
       "<table border=\"1\" class=\"dataframe\">\n",
       "  <thead>\n",
       "    <tr style=\"text-align: right;\">\n",
       "      <th></th>\n",
       "      <th>State_Name</th>\n",
       "      <th>State_ab</th>\n",
       "      <th>City</th>\n",
       "      <th>Mean</th>\n",
       "      <th>Median</th>\n",
       "      <th>Stdev</th>\n",
       "    </tr>\n",
       "  </thead>\n",
       "  <tbody>\n",
       "    <tr>\n",
       "      <th>2303</th>\n",
       "      <td>Florida</td>\n",
       "      <td>FL</td>\n",
       "      <td>Lehigh Acres</td>\n",
       "      <td>122318</td>\n",
       "      <td>127896</td>\n",
       "      <td>102171</td>\n",
       "    </tr>\n",
       "    <tr>\n",
       "      <th>503</th>\n",
       "      <td>Texas</td>\n",
       "      <td>TX</td>\n",
       "      <td>Jewett</td>\n",
       "      <td>100110</td>\n",
       "      <td>41907</td>\n",
       "      <td>100239</td>\n",
       "    </tr>\n",
       "    <tr>\n",
       "      <th>1456</th>\n",
       "      <td>California</td>\n",
       "      <td>CA</td>\n",
       "      <td>Avery</td>\n",
       "      <td>124426</td>\n",
       "      <td>300000</td>\n",
       "      <td>96241</td>\n",
       "    </tr>\n",
       "    <tr>\n",
       "      <th>7054</th>\n",
       "      <td>North Carolina</td>\n",
       "      <td>NC</td>\n",
       "      <td>Carrboro</td>\n",
       "      <td>96387</td>\n",
       "      <td>300000</td>\n",
       "      <td>94721</td>\n",
       "    </tr>\n",
       "    <tr>\n",
       "      <th>7553</th>\n",
       "      <td>California</td>\n",
       "      <td>CA</td>\n",
       "      <td>Pacific Palisades</td>\n",
       "      <td>144174</td>\n",
       "      <td>158988</td>\n",
       "      <td>94528</td>\n",
       "    </tr>\n",
       "    <tr>\n",
       "      <th>...</th>\n",
       "      <td>...</td>\n",
       "      <td>...</td>\n",
       "      <td>...</td>\n",
       "      <td>...</td>\n",
       "      <td>...</td>\n",
       "      <td>...</td>\n",
       "    </tr>\n",
       "    <tr>\n",
       "      <th>3856</th>\n",
       "      <td>California</td>\n",
       "      <td>CA</td>\n",
       "      <td>Anaheim</td>\n",
       "      <td>0</td>\n",
       "      <td>0</td>\n",
       "      <td>0</td>\n",
       "    </tr>\n",
       "    <tr>\n",
       "      <th>3887</th>\n",
       "      <td>Missouri</td>\n",
       "      <td>MO</td>\n",
       "      <td>St Charles</td>\n",
       "      <td>0</td>\n",
       "      <td>0</td>\n",
       "      <td>0</td>\n",
       "    </tr>\n",
       "    <tr>\n",
       "      <th>8055</th>\n",
       "      <td>Texas</td>\n",
       "      <td>TX</td>\n",
       "      <td>Del Valle</td>\n",
       "      <td>0</td>\n",
       "      <td>0</td>\n",
       "      <td>0</td>\n",
       "    </tr>\n",
       "    <tr>\n",
       "      <th>5476</th>\n",
       "      <td>Louisiana</td>\n",
       "      <td>LA</td>\n",
       "      <td>Fort Polk</td>\n",
       "      <td>0</td>\n",
       "      <td>0</td>\n",
       "      <td>0</td>\n",
       "    </tr>\n",
       "    <tr>\n",
       "      <th>8127</th>\n",
       "      <td>Hawaii</td>\n",
       "      <td>HI</td>\n",
       "      <td>Lanai City</td>\n",
       "      <td>0</td>\n",
       "      <td>0</td>\n",
       "      <td>0</td>\n",
       "    </tr>\n",
       "  </tbody>\n",
       "</table>\n",
       "<p>8128 rows × 6 columns</p>\n",
       "</div>"
      ],
      "text/plain": [
       "          State_Name State_ab               City    Mean  Median   Stdev\n",
       "2303         Florida       FL       Lehigh Acres  122318  127896  102171\n",
       "503            Texas       TX             Jewett  100110   41907  100239\n",
       "1456      California       CA              Avery  124426  300000   96241\n",
       "7054  North Carolina       NC           Carrboro   96387  300000   94721\n",
       "7553      California       CA  Pacific Palisades  144174  158988   94528\n",
       "...              ...      ...                ...     ...     ...     ...\n",
       "3856      California       CA            Anaheim       0       0       0\n",
       "3887        Missouri       MO         St Charles       0       0       0\n",
       "8055           Texas       TX          Del Valle       0       0       0\n",
       "5476       Louisiana       LA          Fort Polk       0       0       0\n",
       "8127          Hawaii       HI         Lanai City       0       0       0\n",
       "\n",
       "[8128 rows x 6 columns]"
      ]
     },
     "execution_count": 5,
     "metadata": {},
     "output_type": "execute_result"
    }
   ],
   "source": [
    "inc.sort_values('Stdev',ascending = False )"
   ]
  },
  {
   "cell_type": "markdown",
   "metadata": {},
   "source": [
    "Additionally, there appeared to be an error in the data for Median Income. The data shows that Median Income for 1053 entries is $300,000. So we cannot use the column Median Income."
   ]
  },
  {
   "cell_type": "code",
   "execution_count": 6,
   "metadata": {},
   "outputs": [
    {
     "data": {
      "text/html": [
       "<div>\n",
       "<style scoped>\n",
       "    .dataframe tbody tr th:only-of-type {\n",
       "        vertical-align: middle;\n",
       "    }\n",
       "\n",
       "    .dataframe tbody tr th {\n",
       "        vertical-align: top;\n",
       "    }\n",
       "\n",
       "    .dataframe thead th {\n",
       "        text-align: right;\n",
       "    }\n",
       "</style>\n",
       "<table border=\"1\" class=\"dataframe\">\n",
       "  <thead>\n",
       "    <tr style=\"text-align: right;\">\n",
       "      <th></th>\n",
       "      <th>State_Name</th>\n",
       "      <th>State_ab</th>\n",
       "      <th>City</th>\n",
       "      <th>Mean</th>\n",
       "      <th>Median</th>\n",
       "      <th>Stdev</th>\n",
       "    </tr>\n",
       "  </thead>\n",
       "  <tbody>\n",
       "    <tr>\n",
       "      <th>16</th>\n",
       "      <td>Wyoming</td>\n",
       "      <td>WY</td>\n",
       "      <td>Cody</td>\n",
       "      <td>72151</td>\n",
       "      <td>300000</td>\n",
       "      <td>36256</td>\n",
       "    </tr>\n",
       "    <tr>\n",
       "      <th>38</th>\n",
       "      <td>Maine</td>\n",
       "      <td>ME</td>\n",
       "      <td>Jackman</td>\n",
       "      <td>52315</td>\n",
       "      <td>300000</td>\n",
       "      <td>32439</td>\n",
       "    </tr>\n",
       "    <tr>\n",
       "      <th>42</th>\n",
       "      <td>Arizona</td>\n",
       "      <td>AZ</td>\n",
       "      <td>Winslow</td>\n",
       "      <td>74749</td>\n",
       "      <td>300000</td>\n",
       "      <td>44849</td>\n",
       "    </tr>\n",
       "    <tr>\n",
       "      <th>47</th>\n",
       "      <td>New Mexico</td>\n",
       "      <td>NM</td>\n",
       "      <td>Tatum</td>\n",
       "      <td>80419</td>\n",
       "      <td>300000</td>\n",
       "      <td>45735</td>\n",
       "    </tr>\n",
       "    <tr>\n",
       "      <th>64</th>\n",
       "      <td>Idaho</td>\n",
       "      <td>ID</td>\n",
       "      <td>Leadore</td>\n",
       "      <td>49723</td>\n",
       "      <td>300000</td>\n",
       "      <td>52335</td>\n",
       "    </tr>\n",
       "    <tr>\n",
       "      <th>...</th>\n",
       "      <td>...</td>\n",
       "      <td>...</td>\n",
       "      <td>...</td>\n",
       "      <td>...</td>\n",
       "      <td>...</td>\n",
       "      <td>...</td>\n",
       "    </tr>\n",
       "    <tr>\n",
       "      <th>8091</th>\n",
       "      <td>West Virginia</td>\n",
       "      <td>WV</td>\n",
       "      <td>Volga</td>\n",
       "      <td>55987</td>\n",
       "      <td>300000</td>\n",
       "      <td>23513</td>\n",
       "    </tr>\n",
       "    <tr>\n",
       "      <th>8097</th>\n",
       "      <td>Pennsylvania</td>\n",
       "      <td>PA</td>\n",
       "      <td>Turbotville</td>\n",
       "      <td>54304</td>\n",
       "      <td>300000</td>\n",
       "      <td>31360</td>\n",
       "    </tr>\n",
       "    <tr>\n",
       "      <th>8101</th>\n",
       "      <td>New Jersey</td>\n",
       "      <td>NJ</td>\n",
       "      <td>West New York</td>\n",
       "      <td>67035</td>\n",
       "      <td>300000</td>\n",
       "      <td>46989</td>\n",
       "    </tr>\n",
       "    <tr>\n",
       "      <th>8105</th>\n",
       "      <td>Vermont</td>\n",
       "      <td>VT</td>\n",
       "      <td>East Montpelier</td>\n",
       "      <td>54118</td>\n",
       "      <td>300000</td>\n",
       "      <td>33422</td>\n",
       "    </tr>\n",
       "    <tr>\n",
       "      <th>8108</th>\n",
       "      <td>Kansas</td>\n",
       "      <td>KS</td>\n",
       "      <td>Argonia</td>\n",
       "      <td>51200</td>\n",
       "      <td>300000</td>\n",
       "      <td>30165</td>\n",
       "    </tr>\n",
       "  </tbody>\n",
       "</table>\n",
       "<p>1053 rows × 6 columns</p>\n",
       "</div>"
      ],
      "text/plain": [
       "         State_Name State_ab             City   Mean  Median  Stdev\n",
       "16          Wyoming       WY             Cody  72151  300000  36256\n",
       "38            Maine       ME          Jackman  52315  300000  32439\n",
       "42          Arizona       AZ          Winslow  74749  300000  44849\n",
       "47       New Mexico       NM            Tatum  80419  300000  45735\n",
       "64            Idaho       ID          Leadore  49723  300000  52335\n",
       "...             ...      ...              ...    ...     ...    ...\n",
       "8091  West Virginia       WV            Volga  55987  300000  23513\n",
       "8097   Pennsylvania       PA      Turbotville  54304  300000  31360\n",
       "8101     New Jersey       NJ    West New York  67035  300000  46989\n",
       "8105        Vermont       VT  East Montpelier  54118  300000  33422\n",
       "8108         Kansas       KS          Argonia  51200  300000  30165\n",
       "\n",
       "[1053 rows x 6 columns]"
      ]
     },
     "execution_count": 6,
     "metadata": {},
     "output_type": "execute_result"
    }
   ],
   "source": [
    "inc[inc['Median']==300000]"
   ]
  },
  {
   "cell_type": "code",
   "execution_count": 7,
   "metadata": {
    "scrolled": true
   },
   "outputs": [],
   "source": [
    "inc = inc.drop(columns = 'Median')"
   ]
  },
  {
   "cell_type": "code",
   "execution_count": 8,
   "metadata": {},
   "outputs": [
    {
     "data": {
      "text/html": [
       "<div>\n",
       "<style scoped>\n",
       "    .dataframe tbody tr th:only-of-type {\n",
       "        vertical-align: middle;\n",
       "    }\n",
       "\n",
       "    .dataframe tbody tr th {\n",
       "        vertical-align: top;\n",
       "    }\n",
       "\n",
       "    .dataframe thead th {\n",
       "        text-align: right;\n",
       "    }\n",
       "</style>\n",
       "<table border=\"1\" class=\"dataframe\">\n",
       "  <thead>\n",
       "    <tr style=\"text-align: right;\">\n",
       "      <th></th>\n",
       "      <th>State_Name</th>\n",
       "      <th>State_ab</th>\n",
       "      <th>City</th>\n",
       "      <th>Mean</th>\n",
       "      <th>Stdev</th>\n",
       "    </tr>\n",
       "  </thead>\n",
       "  <tbody>\n",
       "    <tr>\n",
       "      <th>0</th>\n",
       "      <td>Alaska</td>\n",
       "      <td>AK</td>\n",
       "      <td>Kiana</td>\n",
       "      <td>58546</td>\n",
       "      <td>45306</td>\n",
       "    </tr>\n",
       "    <tr>\n",
       "      <th>1</th>\n",
       "      <td>Alaska</td>\n",
       "      <td>AK</td>\n",
       "      <td>Huslia</td>\n",
       "      <td>40950</td>\n",
       "      <td>34933</td>\n",
       "    </tr>\n",
       "    <tr>\n",
       "      <th>2</th>\n",
       "      <td>Alaska</td>\n",
       "      <td>AK</td>\n",
       "      <td>Takotna</td>\n",
       "      <td>53751</td>\n",
       "      <td>45019</td>\n",
       "    </tr>\n",
       "    <tr>\n",
       "      <th>3</th>\n",
       "      <td>Alaska</td>\n",
       "      <td>AK</td>\n",
       "      <td>Copper Center</td>\n",
       "      <td>50328</td>\n",
       "      <td>44831</td>\n",
       "    </tr>\n",
       "    <tr>\n",
       "      <th>4</th>\n",
       "      <td>Alaska</td>\n",
       "      <td>AK</td>\n",
       "      <td>Egegik</td>\n",
       "      <td>62733</td>\n",
       "      <td>52096</td>\n",
       "    </tr>\n",
       "    <tr>\n",
       "      <th>...</th>\n",
       "      <td>...</td>\n",
       "      <td>...</td>\n",
       "      <td>...</td>\n",
       "      <td>...</td>\n",
       "      <td>...</td>\n",
       "    </tr>\n",
       "    <tr>\n",
       "      <th>8123</th>\n",
       "      <td>Michigan</td>\n",
       "      <td>MI</td>\n",
       "      <td>Pentwater</td>\n",
       "      <td>0</td>\n",
       "      <td>0</td>\n",
       "    </tr>\n",
       "    <tr>\n",
       "      <th>8124</th>\n",
       "      <td>Florida</td>\n",
       "      <td>FL</td>\n",
       "      <td>Cedar Key</td>\n",
       "      <td>0</td>\n",
       "      <td>0</td>\n",
       "    </tr>\n",
       "    <tr>\n",
       "      <th>8125</th>\n",
       "      <td>Florida</td>\n",
       "      <td>FL</td>\n",
       "      <td>Ocoee</td>\n",
       "      <td>0</td>\n",
       "      <td>0</td>\n",
       "    </tr>\n",
       "    <tr>\n",
       "      <th>8126</th>\n",
       "      <td>Maryland</td>\n",
       "      <td>MD</td>\n",
       "      <td>Ridge</td>\n",
       "      <td>0</td>\n",
       "      <td>0</td>\n",
       "    </tr>\n",
       "    <tr>\n",
       "      <th>8127</th>\n",
       "      <td>Hawaii</td>\n",
       "      <td>HI</td>\n",
       "      <td>Lanai City</td>\n",
       "      <td>0</td>\n",
       "      <td>0</td>\n",
       "    </tr>\n",
       "  </tbody>\n",
       "</table>\n",
       "<p>8128 rows × 5 columns</p>\n",
       "</div>"
      ],
      "text/plain": [
       "     State_Name State_ab           City   Mean  Stdev\n",
       "0        Alaska       AK          Kiana  58546  45306\n",
       "1        Alaska       AK         Huslia  40950  34933\n",
       "2        Alaska       AK        Takotna  53751  45019\n",
       "3        Alaska       AK  Copper Center  50328  44831\n",
       "4        Alaska       AK         Egegik  62733  52096\n",
       "...         ...      ...            ...    ...    ...\n",
       "8123   Michigan       MI      Pentwater      0      0\n",
       "8124    Florida       FL      Cedar Key      0      0\n",
       "8125    Florida       FL          Ocoee      0      0\n",
       "8126   Maryland       MD          Ridge      0      0\n",
       "8127     Hawaii       HI     Lanai City      0      0\n",
       "\n",
       "[8128 rows x 5 columns]"
      ]
     },
     "execution_count": 8,
     "metadata": {},
     "output_type": "execute_result"
    }
   ],
   "source": [
    "inc"
   ]
  },
  {
   "cell_type": "markdown",
   "metadata": {},
   "source": [
    "###  Dataset #2 Cleaning"
   ]
  },
  {
   "cell_type": "markdown",
   "metadata": {},
   "source": [
    "In the current dataset, the entries were made gradually until the whole population of the city was covered. We have dropped the intermediate entries and kept the remaining 475 cities. The columns with unnecessary information were dropped, the index was reset, and the values were sorted."
   ]
  },
  {
   "cell_type": "code",
   "execution_count": 9,
   "metadata": {},
   "outputs": [
    {
     "data": {
      "text/html": [
       "<div>\n",
       "<style scoped>\n",
       "    .dataframe tbody tr th:only-of-type {\n",
       "        vertical-align: middle;\n",
       "    }\n",
       "\n",
       "    .dataframe tbody tr th {\n",
       "        vertical-align: top;\n",
       "    }\n",
       "\n",
       "    .dataframe thead th {\n",
       "        text-align: right;\n",
       "    }\n",
       "</style>\n",
       "<table border=\"1\" class=\"dataframe\">\n",
       "  <thead>\n",
       "    <tr style=\"text-align: right;\">\n",
       "      <th></th>\n",
       "      <th>Year</th>\n",
       "      <th>StateAbbr</th>\n",
       "      <th>StateDesc</th>\n",
       "      <th>CityName</th>\n",
       "      <th>GeographicLevel</th>\n",
       "      <th>DataSource</th>\n",
       "      <th>Category</th>\n",
       "      <th>UniqueID</th>\n",
       "      <th>Measure</th>\n",
       "      <th>Data_Value_Unit</th>\n",
       "      <th>...</th>\n",
       "      <th>High_Confidence_Limit</th>\n",
       "      <th>Data_Value_Footnote_Symbol</th>\n",
       "      <th>Data_Value_Footnote</th>\n",
       "      <th>PopulationCount</th>\n",
       "      <th>GeoLocation</th>\n",
       "      <th>CategoryID</th>\n",
       "      <th>MeasureId</th>\n",
       "      <th>CityFIPS</th>\n",
       "      <th>TractFIPS</th>\n",
       "      <th>Short_Question_Text</th>\n",
       "    </tr>\n",
       "  </thead>\n",
       "  <tbody>\n",
       "    <tr>\n",
       "      <th>0</th>\n",
       "      <td>2017</td>\n",
       "      <td>CA</td>\n",
       "      <td>California</td>\n",
       "      <td>Inglewood</td>\n",
       "      <td>Census Tract</td>\n",
       "      <td>BRFSS</td>\n",
       "      <td>Health Outcomes</td>\n",
       "      <td>0636546-06037601801</td>\n",
       "      <td>Diagnosed diabetes among adults aged &gt;=18 Years</td>\n",
       "      <td>%</td>\n",
       "      <td>...</td>\n",
       "      <td>13.5</td>\n",
       "      <td>NaN</td>\n",
       "      <td>NaN</td>\n",
       "      <td>2472</td>\n",
       "      <td>(33.9439711273, -118.349937728)</td>\n",
       "      <td>HLTHOUT</td>\n",
       "      <td>DIABETES</td>\n",
       "      <td>636546.0</td>\n",
       "      <td>6.037602e+09</td>\n",
       "      <td>Diabetes</td>\n",
       "    </tr>\n",
       "    <tr>\n",
       "      <th>1</th>\n",
       "      <td>2017</td>\n",
       "      <td>AL</td>\n",
       "      <td>Alabama</td>\n",
       "      <td>Huntsville</td>\n",
       "      <td>Census Tract</td>\n",
       "      <td>BRFSS</td>\n",
       "      <td>Health Outcomes</td>\n",
       "      <td>0137000-01089002922</td>\n",
       "      <td>Diagnosed diabetes among adults aged &gt;=18 Years</td>\n",
       "      <td>%</td>\n",
       "      <td>...</td>\n",
       "      <td>10.3</td>\n",
       "      <td>NaN</td>\n",
       "      <td>NaN</td>\n",
       "      <td>4387</td>\n",
       "      <td>(34.612755588, -86.5329568642)</td>\n",
       "      <td>HLTHOUT</td>\n",
       "      <td>DIABETES</td>\n",
       "      <td>137000.0</td>\n",
       "      <td>1.089003e+09</td>\n",
       "      <td>Diabetes</td>\n",
       "    </tr>\n",
       "    <tr>\n",
       "      <th>2</th>\n",
       "      <td>2017</td>\n",
       "      <td>AK</td>\n",
       "      <td>Alaska</td>\n",
       "      <td>Anchorage</td>\n",
       "      <td>Census Tract</td>\n",
       "      <td>BRFSS</td>\n",
       "      <td>Health Outcomes</td>\n",
       "      <td>0203000-02020002501</td>\n",
       "      <td>Diagnosed diabetes among adults aged &gt;=18 Years</td>\n",
       "      <td>%</td>\n",
       "      <td>...</td>\n",
       "      <td>7.8</td>\n",
       "      <td>NaN</td>\n",
       "      <td>NaN</td>\n",
       "      <td>4993</td>\n",
       "      <td>(61.1593945029, -149.899866691)</td>\n",
       "      <td>HLTHOUT</td>\n",
       "      <td>DIABETES</td>\n",
       "      <td>203000.0</td>\n",
       "      <td>2.020003e+09</td>\n",
       "      <td>Diabetes</td>\n",
       "    </tr>\n",
       "    <tr>\n",
       "      <th>3</th>\n",
       "      <td>2017</td>\n",
       "      <td>AZ</td>\n",
       "      <td>Arizona</td>\n",
       "      <td>Tempe</td>\n",
       "      <td>Census Tract</td>\n",
       "      <td>BRFSS</td>\n",
       "      <td>Health Outcomes</td>\n",
       "      <td>0473000-04013319907</td>\n",
       "      <td>Diagnosed diabetes among adults aged &gt;=18 Years</td>\n",
       "      <td>%</td>\n",
       "      <td>...</td>\n",
       "      <td>7.9</td>\n",
       "      <td>NaN</td>\n",
       "      <td>NaN</td>\n",
       "      <td>2225</td>\n",
       "      <td>(33.3419171912, -111.919809152)</td>\n",
       "      <td>HLTHOUT</td>\n",
       "      <td>DIABETES</td>\n",
       "      <td>473000.0</td>\n",
       "      <td>4.013320e+09</td>\n",
       "      <td>Diabetes</td>\n",
       "    </tr>\n",
       "    <tr>\n",
       "      <th>4</th>\n",
       "      <td>2017</td>\n",
       "      <td>AZ</td>\n",
       "      <td>Arizona</td>\n",
       "      <td>Yuma</td>\n",
       "      <td>City</td>\n",
       "      <td>BRFSS</td>\n",
       "      <td>Health Outcomes</td>\n",
       "      <td>0485540</td>\n",
       "      <td>Diagnosed diabetes among adults aged &gt;=18 Years</td>\n",
       "      <td>%</td>\n",
       "      <td>...</td>\n",
       "      <td>11.3</td>\n",
       "      <td>NaN</td>\n",
       "      <td>NaN</td>\n",
       "      <td>93064</td>\n",
       "      <td>(32.5986027117, -114.54836837)</td>\n",
       "      <td>HLTHOUT</td>\n",
       "      <td>DIABETES</td>\n",
       "      <td>485540.0</td>\n",
       "      <td>NaN</td>\n",
       "      <td>Diabetes</td>\n",
       "    </tr>\n",
       "  </tbody>\n",
       "</table>\n",
       "<p>5 rows × 24 columns</p>\n",
       "</div>"
      ],
      "text/plain": [
       "   Year StateAbbr   StateDesc    CityName GeographicLevel DataSource  \\\n",
       "0  2017        CA  California   Inglewood    Census Tract      BRFSS   \n",
       "1  2017        AL     Alabama  Huntsville    Census Tract      BRFSS   \n",
       "2  2017        AK      Alaska   Anchorage    Census Tract      BRFSS   \n",
       "3  2017        AZ     Arizona       Tempe    Census Tract      BRFSS   \n",
       "4  2017        AZ     Arizona        Yuma            City      BRFSS   \n",
       "\n",
       "          Category             UniqueID  \\\n",
       "0  Health Outcomes  0636546-06037601801   \n",
       "1  Health Outcomes  0137000-01089002922   \n",
       "2  Health Outcomes  0203000-02020002501   \n",
       "3  Health Outcomes  0473000-04013319907   \n",
       "4  Health Outcomes              0485540   \n",
       "\n",
       "                                           Measure Data_Value_Unit  ...  \\\n",
       "0  Diagnosed diabetes among adults aged >=18 Years               %  ...   \n",
       "1  Diagnosed diabetes among adults aged >=18 Years               %  ...   \n",
       "2  Diagnosed diabetes among adults aged >=18 Years               %  ...   \n",
       "3  Diagnosed diabetes among adults aged >=18 Years               %  ...   \n",
       "4  Diagnosed diabetes among adults aged >=18 Years               %  ...   \n",
       "\n",
       "  High_Confidence_Limit Data_Value_Footnote_Symbol  Data_Value_Footnote  \\\n",
       "0                  13.5                        NaN                  NaN   \n",
       "1                  10.3                        NaN                  NaN   \n",
       "2                   7.8                        NaN                  NaN   \n",
       "3                   7.9                        NaN                  NaN   \n",
       "4                  11.3                        NaN                  NaN   \n",
       "\n",
       "   PopulationCount                      GeoLocation CategoryID MeasureId  \\\n",
       "0             2472  (33.9439711273, -118.349937728)    HLTHOUT  DIABETES   \n",
       "1             4387   (34.612755588, -86.5329568642)    HLTHOUT  DIABETES   \n",
       "2             4993  (61.1593945029, -149.899866691)    HLTHOUT  DIABETES   \n",
       "3             2225  (33.3419171912, -111.919809152)    HLTHOUT  DIABETES   \n",
       "4            93064   (32.5986027117, -114.54836837)    HLTHOUT  DIABETES   \n",
       "\n",
       "   CityFIPS     TractFIPS Short_Question_Text  \n",
       "0  636546.0  6.037602e+09            Diabetes  \n",
       "1  137000.0  1.089003e+09            Diabetes  \n",
       "2  203000.0  2.020003e+09            Diabetes  \n",
       "3  473000.0  4.013320e+09            Diabetes  \n",
       "4  485540.0           NaN            Diabetes  \n",
       "\n",
       "[5 rows x 24 columns]"
      ]
     },
     "execution_count": 9,
     "metadata": {},
     "output_type": "execute_result"
    }
   ],
   "source": [
    "db = pd.read_csv(\"Diagnosed_Diabetes.csv\", na_filter = True, thousands=',', decimal='.')\n",
    "db.head()"
   ]
  },
  {
   "cell_type": "code",
   "execution_count": 10,
   "metadata": {},
   "outputs": [],
   "source": [
    "db = db.drop(columns=['Year', 'DataSource', 'Measure',\n",
    "                      'CategoryID', 'Category', 'MeasureId',\n",
    "                      'Short_Question_Text', 'TractFIPS','GeographicLevel',\n",
    "                      'UniqueID', 'GeoLocation', 'CityFIPS',\n",
    "                      'Data_Value_Footnote_Symbol', 'Data_Value_Footnote',\n",
    "                      'Low_Confidence_Limit', 'High_Confidence_Limit', 'DataValueTypeID'])"
   ]
  },
  {
   "cell_type": "code",
   "execution_count": 11,
   "metadata": {},
   "outputs": [],
   "source": [
    "db = db[['StateAbbr',\n",
    "         'StateDesc',\n",
    "         'CityName',\n",
    "         'Data_Value_Type',\n",
    "         'Data_Value_Unit',\n",
    "         'Data_Value',\n",
    "         'PopulationCount']]"
   ]
  },
  {
   "cell_type": "code",
   "execution_count": 12,
   "metadata": {
    "scrolled": false
   },
   "outputs": [],
   "source": [
    "db = db.sort_values(by = 'PopulationCount', ascending = False)\\\n",
    "                    .drop_duplicates(subset=['CityName'], keep='first')\\\n",
    "                    .reset_index(drop= True)"
   ]
  },
  {
   "cell_type": "code",
   "execution_count": 13,
   "metadata": {
    "scrolled": true
   },
   "outputs": [
    {
     "data": {
      "text/html": [
       "<div>\n",
       "<style scoped>\n",
       "    .dataframe tbody tr th:only-of-type {\n",
       "        vertical-align: middle;\n",
       "    }\n",
       "\n",
       "    .dataframe tbody tr th {\n",
       "        vertical-align: top;\n",
       "    }\n",
       "\n",
       "    .dataframe thead th {\n",
       "        text-align: right;\n",
       "    }\n",
       "</style>\n",
       "<table border=\"1\" class=\"dataframe\">\n",
       "  <thead>\n",
       "    <tr style=\"text-align: right;\">\n",
       "      <th></th>\n",
       "      <th>StateAbbr</th>\n",
       "      <th>StateDesc</th>\n",
       "      <th>CityName</th>\n",
       "      <th>Data_Value_Type</th>\n",
       "      <th>Data_Value_Unit</th>\n",
       "      <th>Data_Value</th>\n",
       "      <th>PopulationCount</th>\n",
       "    </tr>\n",
       "  </thead>\n",
       "  <tbody>\n",
       "    <tr>\n",
       "      <th>0</th>\n",
       "      <td>US</td>\n",
       "      <td>United States</td>\n",
       "      <td>NaN</td>\n",
       "      <td>Crude prevalence</td>\n",
       "      <td>%</td>\n",
       "      <td>10.8</td>\n",
       "      <td>308745538</td>\n",
       "    </tr>\n",
       "    <tr>\n",
       "      <th>1</th>\n",
       "      <td>NY</td>\n",
       "      <td>New York</td>\n",
       "      <td>New York</td>\n",
       "      <td>Crude prevalence</td>\n",
       "      <td>%</td>\n",
       "      <td>10.9</td>\n",
       "      <td>8175133</td>\n",
       "    </tr>\n",
       "    <tr>\n",
       "      <th>2</th>\n",
       "      <td>CA</td>\n",
       "      <td>California</td>\n",
       "      <td>Los Angeles</td>\n",
       "      <td>Crude prevalence</td>\n",
       "      <td>%</td>\n",
       "      <td>10.0</td>\n",
       "      <td>3792621</td>\n",
       "    </tr>\n",
       "    <tr>\n",
       "      <th>3</th>\n",
       "      <td>IL</td>\n",
       "      <td>Illinois</td>\n",
       "      <td>Chicago</td>\n",
       "      <td>Age-adjusted prevalence</td>\n",
       "      <td>%</td>\n",
       "      <td>12.2</td>\n",
       "      <td>2695598</td>\n",
       "    </tr>\n",
       "    <tr>\n",
       "      <th>4</th>\n",
       "      <td>TX</td>\n",
       "      <td>Texas</td>\n",
       "      <td>Houston</td>\n",
       "      <td>Age-adjusted prevalence</td>\n",
       "      <td>%</td>\n",
       "      <td>13.3</td>\n",
       "      <td>2099451</td>\n",
       "    </tr>\n",
       "    <tr>\n",
       "      <th>...</th>\n",
       "      <td>...</td>\n",
       "      <td>...</td>\n",
       "      <td>...</td>\n",
       "      <td>...</td>\n",
       "      <td>...</td>\n",
       "      <td>...</td>\n",
       "      <td>...</td>\n",
       "    </tr>\n",
       "    <tr>\n",
       "      <th>470</th>\n",
       "      <td>GA</td>\n",
       "      <td>Georgia</td>\n",
       "      <td>Warner Robins</td>\n",
       "      <td>Age-adjusted prevalence</td>\n",
       "      <td>%</td>\n",
       "      <td>12.0</td>\n",
       "      <td>66588</td>\n",
       "    </tr>\n",
       "    <tr>\n",
       "      <th>471</th>\n",
       "      <td>SC</td>\n",
       "      <td>South Carolin</td>\n",
       "      <td>Rock Hill</td>\n",
       "      <td>Age-adjusted prevalence</td>\n",
       "      <td>%</td>\n",
       "      <td>12.4</td>\n",
       "      <td>66154</td>\n",
       "    </tr>\n",
       "    <tr>\n",
       "      <th>472</th>\n",
       "      <td>NY</td>\n",
       "      <td>New York</td>\n",
       "      <td>Schenectady</td>\n",
       "      <td>Crude prevalence</td>\n",
       "      <td>%</td>\n",
       "      <td>10.5</td>\n",
       "      <td>66135</td>\n",
       "    </tr>\n",
       "    <tr>\n",
       "      <th>473</th>\n",
       "      <td>WY</td>\n",
       "      <td>Wyoming</td>\n",
       "      <td>Cheyenne</td>\n",
       "      <td>Age-adjusted prevalence</td>\n",
       "      <td>%</td>\n",
       "      <td>8.2</td>\n",
       "      <td>59466</td>\n",
       "    </tr>\n",
       "    <tr>\n",
       "      <th>474</th>\n",
       "      <td>VT</td>\n",
       "      <td>Vermont</td>\n",
       "      <td>Burlington</td>\n",
       "      <td>Crude prevalence</td>\n",
       "      <td>%</td>\n",
       "      <td>5.5</td>\n",
       "      <td>42417</td>\n",
       "    </tr>\n",
       "  </tbody>\n",
       "</table>\n",
       "<p>475 rows × 7 columns</p>\n",
       "</div>"
      ],
      "text/plain": [
       "    StateAbbr      StateDesc       CityName          Data_Value_Type  \\\n",
       "0          US  United States            NaN         Crude prevalence   \n",
       "1          NY       New York       New York         Crude prevalence   \n",
       "2          CA     California    Los Angeles         Crude prevalence   \n",
       "3          IL       Illinois        Chicago  Age-adjusted prevalence   \n",
       "4          TX          Texas        Houston  Age-adjusted prevalence   \n",
       "..        ...            ...            ...                      ...   \n",
       "470        GA        Georgia  Warner Robins  Age-adjusted prevalence   \n",
       "471        SC  South Carolin      Rock Hill  Age-adjusted prevalence   \n",
       "472        NY       New York    Schenectady         Crude prevalence   \n",
       "473        WY        Wyoming       Cheyenne  Age-adjusted prevalence   \n",
       "474        VT        Vermont     Burlington         Crude prevalence   \n",
       "\n",
       "    Data_Value_Unit  Data_Value  PopulationCount  \n",
       "0                 %        10.8        308745538  \n",
       "1                 %        10.9          8175133  \n",
       "2                 %        10.0          3792621  \n",
       "3                 %        12.2          2695598  \n",
       "4                 %        13.3          2099451  \n",
       "..              ...         ...              ...  \n",
       "470               %        12.0            66588  \n",
       "471               %        12.4            66154  \n",
       "472               %        10.5            66135  \n",
       "473               %         8.2            59466  \n",
       "474               %         5.5            42417  \n",
       "\n",
       "[475 rows x 7 columns]"
      ]
     },
     "execution_count": 13,
     "metadata": {},
     "output_type": "execute_result"
    }
   ],
   "source": [
    "db"
   ]
  },
  {
   "cell_type": "markdown",
   "metadata": {},
   "source": [
    "### Merging of two data frames"
   ]
  },
  {
   "cell_type": "markdown",
   "metadata": {},
   "source": [
    "Lastly, two data sets were merged together. Repeated columns were dropped.\\\n",
    "As a result we got 278 cities in our analysis."
   ]
  },
  {
   "cell_type": "code",
   "execution_count": 14,
   "metadata": {
    "scrolled": true
   },
   "outputs": [],
   "source": [
    "df = pd.merge(db, inc, how='inner', left_on=['CityName', 'StateDesc'], right_on=['City', 'State_Name'])"
   ]
  },
  {
   "cell_type": "code",
   "execution_count": 15,
   "metadata": {},
   "outputs": [
    {
     "data": {
      "text/html": [
       "<div>\n",
       "<style scoped>\n",
       "    .dataframe tbody tr th:only-of-type {\n",
       "        vertical-align: middle;\n",
       "    }\n",
       "\n",
       "    .dataframe tbody tr th {\n",
       "        vertical-align: top;\n",
       "    }\n",
       "\n",
       "    .dataframe thead th {\n",
       "        text-align: right;\n",
       "    }\n",
       "</style>\n",
       "<table border=\"1\" class=\"dataframe\">\n",
       "  <thead>\n",
       "    <tr style=\"text-align: right;\">\n",
       "      <th></th>\n",
       "      <th>StateAbbr</th>\n",
       "      <th>StateDesc</th>\n",
       "      <th>CityName</th>\n",
       "      <th>Data_Value_Type</th>\n",
       "      <th>Data_Value_Unit</th>\n",
       "      <th>Data_Value</th>\n",
       "      <th>PopulationCount</th>\n",
       "      <th>State_Name</th>\n",
       "      <th>State_ab</th>\n",
       "      <th>City</th>\n",
       "      <th>Mean</th>\n",
       "      <th>Stdev</th>\n",
       "    </tr>\n",
       "  </thead>\n",
       "  <tbody>\n",
       "    <tr>\n",
       "      <th>0</th>\n",
       "      <td>NY</td>\n",
       "      <td>New York</td>\n",
       "      <td>New York</td>\n",
       "      <td>Crude prevalence</td>\n",
       "      <td>%</td>\n",
       "      <td>10.9</td>\n",
       "      <td>8175133</td>\n",
       "      <td>New York</td>\n",
       "      <td>NY</td>\n",
       "      <td>New York</td>\n",
       "      <td>0</td>\n",
       "      <td>0</td>\n",
       "    </tr>\n",
       "    <tr>\n",
       "      <th>1</th>\n",
       "      <td>CA</td>\n",
       "      <td>California</td>\n",
       "      <td>Los Angeles</td>\n",
       "      <td>Crude prevalence</td>\n",
       "      <td>%</td>\n",
       "      <td>10.0</td>\n",
       "      <td>3792621</td>\n",
       "      <td>California</td>\n",
       "      <td>CA</td>\n",
       "      <td>Los Angeles</td>\n",
       "      <td>189728</td>\n",
       "      <td>84217</td>\n",
       "    </tr>\n",
       "    <tr>\n",
       "      <th>2</th>\n",
       "      <td>IL</td>\n",
       "      <td>Illinois</td>\n",
       "      <td>Chicago</td>\n",
       "      <td>Age-adjusted prevalence</td>\n",
       "      <td>%</td>\n",
       "      <td>12.2</td>\n",
       "      <td>2695598</td>\n",
       "      <td>Illinois</td>\n",
       "      <td>IL</td>\n",
       "      <td>Chicago</td>\n",
       "      <td>67450</td>\n",
       "      <td>62043</td>\n",
       "    </tr>\n",
       "    <tr>\n",
       "      <th>3</th>\n",
       "      <td>AZ</td>\n",
       "      <td>Arizona</td>\n",
       "      <td>Phoenix</td>\n",
       "      <td>Crude prevalence</td>\n",
       "      <td>%</td>\n",
       "      <td>9.5</td>\n",
       "      <td>1445632</td>\n",
       "      <td>Arizona</td>\n",
       "      <td>AZ</td>\n",
       "      <td>Phoenix</td>\n",
       "      <td>68506</td>\n",
       "      <td>56207</td>\n",
       "    </tr>\n",
       "    <tr>\n",
       "      <th>4</th>\n",
       "      <td>TX</td>\n",
       "      <td>Texas</td>\n",
       "      <td>San Antonio</td>\n",
       "      <td>Age-adjusted prevalence</td>\n",
       "      <td>%</td>\n",
       "      <td>13.7</td>\n",
       "      <td>1327407</td>\n",
       "      <td>Texas</td>\n",
       "      <td>TX</td>\n",
       "      <td>San Antonio</td>\n",
       "      <td>89970</td>\n",
       "      <td>65863</td>\n",
       "    </tr>\n",
       "    <tr>\n",
       "      <th>...</th>\n",
       "      <td>...</td>\n",
       "      <td>...</td>\n",
       "      <td>...</td>\n",
       "      <td>...</td>\n",
       "      <td>...</td>\n",
       "      <td>...</td>\n",
       "      <td>...</td>\n",
       "      <td>...</td>\n",
       "      <td>...</td>\n",
       "      <td>...</td>\n",
       "      <td>...</td>\n",
       "      <td>...</td>\n",
       "    </tr>\n",
       "    <tr>\n",
       "      <th>273</th>\n",
       "      <td>MT</td>\n",
       "      <td>Montana</td>\n",
       "      <td>Missoula</td>\n",
       "      <td>Crude prevalence</td>\n",
       "      <td>%</td>\n",
       "      <td>6.0</td>\n",
       "      <td>66788</td>\n",
       "      <td>Montana</td>\n",
       "      <td>MT</td>\n",
       "      <td>Missoula</td>\n",
       "      <td>78840</td>\n",
       "      <td>61392</td>\n",
       "    </tr>\n",
       "    <tr>\n",
       "      <th>274</th>\n",
       "      <td>CA</td>\n",
       "      <td>California</td>\n",
       "      <td>Redondo Beach</td>\n",
       "      <td>Age-adjusted prevalence</td>\n",
       "      <td>%</td>\n",
       "      <td>6.3</td>\n",
       "      <td>66748</td>\n",
       "      <td>California</td>\n",
       "      <td>CA</td>\n",
       "      <td>Redondo Beach</td>\n",
       "      <td>109016</td>\n",
       "      <td>58288</td>\n",
       "    </tr>\n",
       "    <tr>\n",
       "      <th>275</th>\n",
       "      <td>LA</td>\n",
       "      <td>Louisiana</td>\n",
       "      <td>Kenner</td>\n",
       "      <td>Age-adjusted prevalence</td>\n",
       "      <td>%</td>\n",
       "      <td>11.9</td>\n",
       "      <td>66702</td>\n",
       "      <td>Louisiana</td>\n",
       "      <td>LA</td>\n",
       "      <td>Kenner</td>\n",
       "      <td>90715</td>\n",
       "      <td>62857</td>\n",
       "    </tr>\n",
       "    <tr>\n",
       "      <th>276</th>\n",
       "      <td>GA</td>\n",
       "      <td>Georgia</td>\n",
       "      <td>Warner Robins</td>\n",
       "      <td>Age-adjusted prevalence</td>\n",
       "      <td>%</td>\n",
       "      <td>12.0</td>\n",
       "      <td>66588</td>\n",
       "      <td>Georgia</td>\n",
       "      <td>GA</td>\n",
       "      <td>Warner Robins</td>\n",
       "      <td>50358</td>\n",
       "      <td>9547</td>\n",
       "    </tr>\n",
       "    <tr>\n",
       "      <th>277</th>\n",
       "      <td>NY</td>\n",
       "      <td>New York</td>\n",
       "      <td>Schenectady</td>\n",
       "      <td>Crude prevalence</td>\n",
       "      <td>%</td>\n",
       "      <td>10.5</td>\n",
       "      <td>66135</td>\n",
       "      <td>New York</td>\n",
       "      <td>NY</td>\n",
       "      <td>Schenectady</td>\n",
       "      <td>95357</td>\n",
       "      <td>47370</td>\n",
       "    </tr>\n",
       "  </tbody>\n",
       "</table>\n",
       "<p>278 rows × 12 columns</p>\n",
       "</div>"
      ],
      "text/plain": [
       "    StateAbbr   StateDesc       CityName          Data_Value_Type  \\\n",
       "0          NY    New York       New York         Crude prevalence   \n",
       "1          CA  California    Los Angeles         Crude prevalence   \n",
       "2          IL    Illinois        Chicago  Age-adjusted prevalence   \n",
       "3          AZ     Arizona        Phoenix         Crude prevalence   \n",
       "4          TX       Texas    San Antonio  Age-adjusted prevalence   \n",
       "..        ...         ...            ...                      ...   \n",
       "273        MT     Montana       Missoula         Crude prevalence   \n",
       "274        CA  California  Redondo Beach  Age-adjusted prevalence   \n",
       "275        LA   Louisiana         Kenner  Age-adjusted prevalence   \n",
       "276        GA     Georgia  Warner Robins  Age-adjusted prevalence   \n",
       "277        NY    New York    Schenectady         Crude prevalence   \n",
       "\n",
       "    Data_Value_Unit  Data_Value  PopulationCount  State_Name State_ab  \\\n",
       "0                 %        10.9          8175133    New York       NY   \n",
       "1                 %        10.0          3792621  California       CA   \n",
       "2                 %        12.2          2695598    Illinois       IL   \n",
       "3                 %         9.5          1445632     Arizona       AZ   \n",
       "4                 %        13.7          1327407       Texas       TX   \n",
       "..              ...         ...              ...         ...      ...   \n",
       "273               %         6.0            66788     Montana       MT   \n",
       "274               %         6.3            66748  California       CA   \n",
       "275               %        11.9            66702   Louisiana       LA   \n",
       "276               %        12.0            66588     Georgia       GA   \n",
       "277               %        10.5            66135    New York       NY   \n",
       "\n",
       "              City    Mean  Stdev  \n",
       "0         New York       0      0  \n",
       "1      Los Angeles  189728  84217  \n",
       "2          Chicago   67450  62043  \n",
       "3          Phoenix   68506  56207  \n",
       "4      San Antonio   89970  65863  \n",
       "..             ...     ...    ...  \n",
       "273       Missoula   78840  61392  \n",
       "274  Redondo Beach  109016  58288  \n",
       "275         Kenner   90715  62857  \n",
       "276  Warner Robins   50358   9547  \n",
       "277    Schenectady   95357  47370  \n",
       "\n",
       "[278 rows x 12 columns]"
      ]
     },
     "execution_count": 15,
     "metadata": {},
     "output_type": "execute_result"
    }
   ],
   "source": [
    "df"
   ]
  },
  {
   "cell_type": "code",
   "execution_count": 16,
   "metadata": {},
   "outputs": [],
   "source": [
    "df = df.drop(columns=['StateAbbr', 'StateDesc', 'CityName'])"
   ]
  },
  {
   "cell_type": "code",
   "execution_count": 17,
   "metadata": {},
   "outputs": [],
   "source": [
    "df = df [[\n",
    "    'State_ab',\n",
    "    'State_Name',\n",
    "    'City',\n",
    "    'Data_Value_Type',\n",
    "    'Data_Value_Unit',\n",
    "    'Data_Value',\n",
    "    'PopulationCount',\n",
    "    'Mean',\n",
    "    'Stdev']]"
   ]
  },
  {
   "cell_type": "markdown",
   "metadata": {},
   "source": [
    "### Final Touches"
   ]
  },
  {
   "cell_type": "markdown",
   "metadata": {},
   "source": [
    "We discovered some income-statistic values were missing, so we dropped them too."
   ]
  },
  {
   "cell_type": "code",
   "execution_count": 18,
   "metadata": {
    "scrolled": true
   },
   "outputs": [
    {
     "data": {
      "text/html": [
       "<div>\n",
       "<style scoped>\n",
       "    .dataframe tbody tr th:only-of-type {\n",
       "        vertical-align: middle;\n",
       "    }\n",
       "\n",
       "    .dataframe tbody tr th {\n",
       "        vertical-align: top;\n",
       "    }\n",
       "\n",
       "    .dataframe thead th {\n",
       "        text-align: right;\n",
       "    }\n",
       "</style>\n",
       "<table border=\"1\" class=\"dataframe\">\n",
       "  <thead>\n",
       "    <tr style=\"text-align: right;\">\n",
       "      <th></th>\n",
       "      <th>State_ab</th>\n",
       "      <th>State_Name</th>\n",
       "      <th>City</th>\n",
       "      <th>Data_Value_Type</th>\n",
       "      <th>Data_Value_Unit</th>\n",
       "      <th>Data_Value</th>\n",
       "      <th>PopulationCount</th>\n",
       "      <th>Mean</th>\n",
       "      <th>Stdev</th>\n",
       "    </tr>\n",
       "  </thead>\n",
       "  <tbody>\n",
       "    <tr>\n",
       "      <th>1</th>\n",
       "      <td>CA</td>\n",
       "      <td>California</td>\n",
       "      <td>Los Angeles</td>\n",
       "      <td>Crude prevalence</td>\n",
       "      <td>%</td>\n",
       "      <td>10.0</td>\n",
       "      <td>3792621</td>\n",
       "      <td>189728</td>\n",
       "      <td>84217</td>\n",
       "    </tr>\n",
       "    <tr>\n",
       "      <th>33</th>\n",
       "      <td>CA</td>\n",
       "      <td>California</td>\n",
       "      <td>Santa Ana</td>\n",
       "      <td>Age-adjusted prevalence</td>\n",
       "      <td>%</td>\n",
       "      <td>13.8</td>\n",
       "      <td>324528</td>\n",
       "      <td>172734</td>\n",
       "      <td>78612</td>\n",
       "    </tr>\n",
       "    <tr>\n",
       "      <th>130</th>\n",
       "      <td>CA</td>\n",
       "      <td>California</td>\n",
       "      <td>Costa Mesa</td>\n",
       "      <td>Age-adjusted prevalence</td>\n",
       "      <td>%</td>\n",
       "      <td>9.0</td>\n",
       "      <td>109960</td>\n",
       "      <td>168957</td>\n",
       "      <td>79604</td>\n",
       "    </tr>\n",
       "    <tr>\n",
       "      <th>220</th>\n",
       "      <td>TX</td>\n",
       "      <td>Texas</td>\n",
       "      <td>Sugar Land</td>\n",
       "      <td>Age-adjusted prevalence</td>\n",
       "      <td>%</td>\n",
       "      <td>9.3</td>\n",
       "      <td>78817</td>\n",
       "      <td>159750</td>\n",
       "      <td>69908</td>\n",
       "    </tr>\n",
       "    <tr>\n",
       "      <th>118</th>\n",
       "      <td>FL</td>\n",
       "      <td>Florida</td>\n",
       "      <td>Coral Springs</td>\n",
       "      <td>Age-adjusted prevalence</td>\n",
       "      <td>%</td>\n",
       "      <td>8.6</td>\n",
       "      <td>121096</td>\n",
       "      <td>150858</td>\n",
       "      <td>80583</td>\n",
       "    </tr>\n",
       "    <tr>\n",
       "      <th>...</th>\n",
       "      <td>...</td>\n",
       "      <td>...</td>\n",
       "      <td>...</td>\n",
       "      <td>...</td>\n",
       "      <td>...</td>\n",
       "      <td>...</td>\n",
       "      <td>...</td>\n",
       "      <td>...</td>\n",
       "      <td>...</td>\n",
       "    </tr>\n",
       "    <tr>\n",
       "      <th>166</th>\n",
       "      <td>TX</td>\n",
       "      <td>Texas</td>\n",
       "      <td>College Station</td>\n",
       "      <td>Crude prevalence</td>\n",
       "      <td>%</td>\n",
       "      <td>4.8</td>\n",
       "      <td>93857</td>\n",
       "      <td>20684</td>\n",
       "      <td>21892</td>\n",
       "    </tr>\n",
       "    <tr>\n",
       "      <th>55</th>\n",
       "      <td>TX</td>\n",
       "      <td>Texas</td>\n",
       "      <td>Irving</td>\n",
       "      <td>Crude prevalence</td>\n",
       "      <td>%</td>\n",
       "      <td>9.8</td>\n",
       "      <td>216290</td>\n",
       "      <td>0</td>\n",
       "      <td>0</td>\n",
       "    </tr>\n",
       "    <tr>\n",
       "      <th>74</th>\n",
       "      <td>TN</td>\n",
       "      <td>Tennessee</td>\n",
       "      <td>Knoxville</td>\n",
       "      <td>Age-adjusted prevalence</td>\n",
       "      <td>%</td>\n",
       "      <td>11.6</td>\n",
       "      <td>178874</td>\n",
       "      <td>0</td>\n",
       "      <td>0</td>\n",
       "    </tr>\n",
       "    <tr>\n",
       "      <th>31</th>\n",
       "      <td>CA</td>\n",
       "      <td>California</td>\n",
       "      <td>Anaheim</td>\n",
       "      <td>Crude prevalence</td>\n",
       "      <td>%</td>\n",
       "      <td>9.9</td>\n",
       "      <td>336265</td>\n",
       "      <td>0</td>\n",
       "      <td>0</td>\n",
       "    </tr>\n",
       "    <tr>\n",
       "      <th>0</th>\n",
       "      <td>NY</td>\n",
       "      <td>New York</td>\n",
       "      <td>New York</td>\n",
       "      <td>Crude prevalence</td>\n",
       "      <td>%</td>\n",
       "      <td>10.9</td>\n",
       "      <td>8175133</td>\n",
       "      <td>0</td>\n",
       "      <td>0</td>\n",
       "    </tr>\n",
       "  </tbody>\n",
       "</table>\n",
       "<p>278 rows × 9 columns</p>\n",
       "</div>"
      ],
      "text/plain": [
       "    State_ab  State_Name             City          Data_Value_Type  \\\n",
       "1         CA  California      Los Angeles         Crude prevalence   \n",
       "33        CA  California        Santa Ana  Age-adjusted prevalence   \n",
       "130       CA  California       Costa Mesa  Age-adjusted prevalence   \n",
       "220       TX       Texas       Sugar Land  Age-adjusted prevalence   \n",
       "118       FL     Florida    Coral Springs  Age-adjusted prevalence   \n",
       "..       ...         ...              ...                      ...   \n",
       "166       TX       Texas  College Station         Crude prevalence   \n",
       "55        TX       Texas           Irving         Crude prevalence   \n",
       "74        TN   Tennessee        Knoxville  Age-adjusted prevalence   \n",
       "31        CA  California          Anaheim         Crude prevalence   \n",
       "0         NY    New York         New York         Crude prevalence   \n",
       "\n",
       "    Data_Value_Unit  Data_Value  PopulationCount    Mean  Stdev  \n",
       "1                 %        10.0          3792621  189728  84217  \n",
       "33                %        13.8           324528  172734  78612  \n",
       "130               %         9.0           109960  168957  79604  \n",
       "220               %         9.3            78817  159750  69908  \n",
       "118               %         8.6           121096  150858  80583  \n",
       "..              ...         ...              ...     ...    ...  \n",
       "166               %         4.8            93857   20684  21892  \n",
       "55                %         9.8           216290       0      0  \n",
       "74                %        11.6           178874       0      0  \n",
       "31                %         9.9           336265       0      0  \n",
       "0                 %        10.9          8175133       0      0  \n",
       "\n",
       "[278 rows x 9 columns]"
      ]
     },
     "execution_count": 18,
     "metadata": {},
     "output_type": "execute_result"
    }
   ],
   "source": [
    "df.sort_values(by = 'Mean', ascending = False)"
   ]
  },
  {
   "cell_type": "code",
   "execution_count": 19,
   "metadata": {},
   "outputs": [],
   "source": [
    "df = df.drop(index = [0, 31, 74, 55], axis=0)"
   ]
  },
  {
   "cell_type": "code",
   "execution_count": 20,
   "metadata": {},
   "outputs": [],
   "source": [
    "df = df.sort_values(by = 'State_ab').reset_index(drop= True)"
   ]
  },
  {
   "cell_type": "markdown",
   "metadata": {},
   "source": [
    "### Results:"
   ]
  },
  {
   "cell_type": "markdown",
   "metadata": {},
   "source": [
    "Now the resulting data frame contains 274 cities."
   ]
  },
  {
   "cell_type": "code",
   "execution_count": 21,
   "metadata": {
    "scrolled": true
   },
   "outputs": [
    {
     "data": {
      "text/html": [
       "<div>\n",
       "<style scoped>\n",
       "    .dataframe tbody tr th:only-of-type {\n",
       "        vertical-align: middle;\n",
       "    }\n",
       "\n",
       "    .dataframe tbody tr th {\n",
       "        vertical-align: top;\n",
       "    }\n",
       "\n",
       "    .dataframe thead th {\n",
       "        text-align: right;\n",
       "    }\n",
       "</style>\n",
       "<table border=\"1\" class=\"dataframe\">\n",
       "  <thead>\n",
       "    <tr style=\"text-align: right;\">\n",
       "      <th></th>\n",
       "      <th>State_ab</th>\n",
       "      <th>State_Name</th>\n",
       "      <th>City</th>\n",
       "      <th>Data_Value_Type</th>\n",
       "      <th>Data_Value_Unit</th>\n",
       "      <th>Data_Value</th>\n",
       "      <th>PopulationCount</th>\n",
       "      <th>Mean</th>\n",
       "      <th>Stdev</th>\n",
       "    </tr>\n",
       "  </thead>\n",
       "  <tbody>\n",
       "    <tr>\n",
       "      <th>0</th>\n",
       "      <td>AK</td>\n",
       "      <td>Alaska</td>\n",
       "      <td>Anchorage</td>\n",
       "      <td>Crude prevalence</td>\n",
       "      <td>%</td>\n",
       "      <td>7.3</td>\n",
       "      <td>291826</td>\n",
       "      <td>77110</td>\n",
       "      <td>54957</td>\n",
       "    </tr>\n",
       "    <tr>\n",
       "      <th>1</th>\n",
       "      <td>AL</td>\n",
       "      <td>Alabama</td>\n",
       "      <td>Birmingham</td>\n",
       "      <td>Age-adjusted prevalence</td>\n",
       "      <td>%</td>\n",
       "      <td>16.2</td>\n",
       "      <td>212237</td>\n",
       "      <td>50662</td>\n",
       "      <td>43229</td>\n",
       "    </tr>\n",
       "    <tr>\n",
       "      <th>2</th>\n",
       "      <td>AL</td>\n",
       "      <td>Alabama</td>\n",
       "      <td>Hoover</td>\n",
       "      <td>Age-adjusted prevalence</td>\n",
       "      <td>%</td>\n",
       "      <td>8.1</td>\n",
       "      <td>81619</td>\n",
       "      <td>118301</td>\n",
       "      <td>67248</td>\n",
       "    </tr>\n",
       "    <tr>\n",
       "      <th>3</th>\n",
       "      <td>AL</td>\n",
       "      <td>Alabama</td>\n",
       "      <td>Mobile</td>\n",
       "      <td>Age-adjusted prevalence</td>\n",
       "      <td>%</td>\n",
       "      <td>13.5</td>\n",
       "      <td>195111</td>\n",
       "      <td>53330</td>\n",
       "      <td>50855</td>\n",
       "    </tr>\n",
       "    <tr>\n",
       "      <th>4</th>\n",
       "      <td>AL</td>\n",
       "      <td>Alabama</td>\n",
       "      <td>Tuscaloosa</td>\n",
       "      <td>Crude prevalence</td>\n",
       "      <td>%</td>\n",
       "      <td>10.2</td>\n",
       "      <td>90468</td>\n",
       "      <td>55815</td>\n",
       "      <td>54867</td>\n",
       "    </tr>\n",
       "    <tr>\n",
       "      <th>...</th>\n",
       "      <td>...</td>\n",
       "      <td>...</td>\n",
       "      <td>...</td>\n",
       "      <td>...</td>\n",
       "      <td>...</td>\n",
       "      <td>...</td>\n",
       "      <td>...</td>\n",
       "      <td>...</td>\n",
       "      <td>...</td>\n",
       "    </tr>\n",
       "    <tr>\n",
       "      <th>269</th>\n",
       "      <td>WA</td>\n",
       "      <td>Washington</td>\n",
       "      <td>Yakima</td>\n",
       "      <td>Crude prevalence</td>\n",
       "      <td>%</td>\n",
       "      <td>11.8</td>\n",
       "      <td>91067</td>\n",
       "      <td>89816</td>\n",
       "      <td>48414</td>\n",
       "    </tr>\n",
       "    <tr>\n",
       "      <th>270</th>\n",
       "      <td>WI</td>\n",
       "      <td>Wisconsin</td>\n",
       "      <td>Milwaukee</td>\n",
       "      <td>Age-adjusted prevalence</td>\n",
       "      <td>%</td>\n",
       "      <td>11.3</td>\n",
       "      <td>594833</td>\n",
       "      <td>78720</td>\n",
       "      <td>47064</td>\n",
       "    </tr>\n",
       "    <tr>\n",
       "      <th>271</th>\n",
       "      <td>WI</td>\n",
       "      <td>Wisconsin</td>\n",
       "      <td>Kenosha</td>\n",
       "      <td>Crude prevalence</td>\n",
       "      <td>%</td>\n",
       "      <td>8.4</td>\n",
       "      <td>99218</td>\n",
       "      <td>61404</td>\n",
       "      <td>35324</td>\n",
       "    </tr>\n",
       "    <tr>\n",
       "      <th>272</th>\n",
       "      <td>WI</td>\n",
       "      <td>Wisconsin</td>\n",
       "      <td>Waukesha</td>\n",
       "      <td>Crude prevalence</td>\n",
       "      <td>%</td>\n",
       "      <td>7.1</td>\n",
       "      <td>70718</td>\n",
       "      <td>98823</td>\n",
       "      <td>56923</td>\n",
       "    </tr>\n",
       "    <tr>\n",
       "      <th>273</th>\n",
       "      <td>WI</td>\n",
       "      <td>Wisconsin</td>\n",
       "      <td>Green Bay</td>\n",
       "      <td>Age-adjusted prevalence</td>\n",
       "      <td>%</td>\n",
       "      <td>8.9</td>\n",
       "      <td>104057</td>\n",
       "      <td>74640</td>\n",
       "      <td>49104</td>\n",
       "    </tr>\n",
       "  </tbody>\n",
       "</table>\n",
       "<p>274 rows × 9 columns</p>\n",
       "</div>"
      ],
      "text/plain": [
       "    State_ab  State_Name        City          Data_Value_Type Data_Value_Unit  \\\n",
       "0         AK      Alaska   Anchorage         Crude prevalence               %   \n",
       "1         AL     Alabama  Birmingham  Age-adjusted prevalence               %   \n",
       "2         AL     Alabama      Hoover  Age-adjusted prevalence               %   \n",
       "3         AL     Alabama      Mobile  Age-adjusted prevalence               %   \n",
       "4         AL     Alabama  Tuscaloosa         Crude prevalence               %   \n",
       "..       ...         ...         ...                      ...             ...   \n",
       "269       WA  Washington      Yakima         Crude prevalence               %   \n",
       "270       WI   Wisconsin   Milwaukee  Age-adjusted prevalence               %   \n",
       "271       WI   Wisconsin     Kenosha         Crude prevalence               %   \n",
       "272       WI   Wisconsin    Waukesha         Crude prevalence               %   \n",
       "273       WI   Wisconsin   Green Bay  Age-adjusted prevalence               %   \n",
       "\n",
       "     Data_Value  PopulationCount    Mean  Stdev  \n",
       "0           7.3           291826   77110  54957  \n",
       "1          16.2           212237   50662  43229  \n",
       "2           8.1            81619  118301  67248  \n",
       "3          13.5           195111   53330  50855  \n",
       "4          10.2            90468   55815  54867  \n",
       "..          ...              ...     ...    ...  \n",
       "269        11.8            91067   89816  48414  \n",
       "270        11.3           594833   78720  47064  \n",
       "271         8.4            99218   61404  35324  \n",
       "272         7.1            70718   98823  56923  \n",
       "273         8.9           104057   74640  49104  \n",
       "\n",
       "[274 rows x 9 columns]"
      ]
     },
     "execution_count": 21,
     "metadata": {},
     "output_type": "execute_result"
    }
   ],
   "source": [
    "df"
   ]
  },
  {
   "cell_type": "markdown",
   "metadata": {},
   "source": [
    "# Data Analysis & Results (EDA)"
   ]
  },
  {
   "cell_type": "code",
   "execution_count": 22,
   "metadata": {
    "scrolled": true
   },
   "outputs": [
    {
     "data": {
      "text/plain": [
       "Text(0, 0.5, 'Percentage of Diabetes')"
      ]
     },
     "execution_count": 22,
     "metadata": {},
     "output_type": "execute_result"
    },
    {
     "data": {
      "image/png": "[encoded data removed]",
      "text/plain": [
       "<Figure size 864x360 with 1 Axes>"
      ]
     },
     "metadata": {},
     "output_type": "display_data"
    }
   ],
   "source": [
    "#This is just an initial out of the box plot.\n",
    "#There is some negative correlation there which is good\n",
    "#Now, we need to work with the data to make it more obvious and salient \n",
    "plt.scatter(df['Mean'].values, df['Data_Value'].values)\n",
    "plt.xlabel(\"Mean Income\")\n",
    "plt.ylabel(\"Percentage of Diabetes\")"
   ]
  },
  {
   "cell_type": "code",
   "execution_count": 23,
   "metadata": {},
   "outputs": [
    {
     "data": {
      "text/plain": [
       "array([[ 1.        , -0.28618962],\n",
       "       [-0.28618962,  1.        ]])"
      ]
     },
     "execution_count": 23,
     "metadata": {},
     "output_type": "execute_result"
    }
   ],
   "source": [
    "np.corrcoef(df['Data_Value'], df['Mean'])"
   ]
  },
  {
   "cell_type": "markdown",
   "metadata": {},
   "source": [
    "the correlation coeeficient between population count and mean income is only -0.286, which indicates the currently the correlation is not strong. However, this could be due to outliers. Let's investigate these."
   ]
  },
  {
   "cell_type": "code",
   "execution_count": 24,
   "metadata": {},
   "outputs": [
    {
     "data": {
      "image/png": "[encoded data removed]",
      "text/plain": [
       "<Figure size 864x360 with 1 Axes>"
      ]
     },
     "metadata": {},
     "output_type": "display_data"
    }
   ],
   "source": [
    "ax = sns.boxplot(data=df['Mean'], orient='h', palette='Set2')"
   ]
  },
  {
   "cell_type": "code",
   "execution_count": 25,
   "metadata": {},
   "outputs": [
    {
     "data": {
      "image/png": "[encoded data removed]",
      "text/plain": [
       "<Figure size 864x360 with 1 Axes>"
      ]
     },
     "metadata": {},
     "output_type": "display_data"
    }
   ],
   "source": [
    "ax = sns.boxplot(data=df['Data_Value'], orient='h', palette='Set2')"
   ]
  },
  {
   "cell_type": "markdown",
   "metadata": {},
   "source": [
    "It appears both Mean income and percentage of diabetes have a few outliers on the high numeric end, this aligns with our previous scatter plot as most of the outliers are in the top right corener of the graph."
   ]
  },
  {
   "cell_type": "code",
   "execution_count": 26,
   "metadata": {},
   "outputs": [
    {
     "data": {
      "text/html": [
       "<div>\n",
       "<style scoped>\n",
       "    .dataframe tbody tr th:only-of-type {\n",
       "        vertical-align: middle;\n",
       "    }\n",
       "\n",
       "    .dataframe tbody tr th {\n",
       "        vertical-align: top;\n",
       "    }\n",
       "\n",
       "    .dataframe thead th {\n",
       "        text-align: right;\n",
       "    }\n",
       "</style>\n",
       "<table border=\"1\" class=\"dataframe\">\n",
       "  <thead>\n",
       "    <tr style=\"text-align: right;\">\n",
       "      <th></th>\n",
       "      <th>State_ab</th>\n",
       "      <th>State_Name</th>\n",
       "      <th>City</th>\n",
       "      <th>Data_Value_Type</th>\n",
       "      <th>Data_Value_Unit</th>\n",
       "      <th>Data_Value</th>\n",
       "      <th>PopulationCount</th>\n",
       "      <th>Mean</th>\n",
       "      <th>Stdev</th>\n",
       "    </tr>\n",
       "  </thead>\n",
       "  <tbody>\n",
       "    <tr>\n",
       "      <th>1</th>\n",
       "      <td>AL</td>\n",
       "      <td>Alabama</td>\n",
       "      <td>Birmingham</td>\n",
       "      <td>Age-adjusted prevalence</td>\n",
       "      <td>%</td>\n",
       "      <td>16.2</td>\n",
       "      <td>212237</td>\n",
       "      <td>50662</td>\n",
       "      <td>43229</td>\n",
       "    </tr>\n",
       "    <tr>\n",
       "      <th>25</th>\n",
       "      <td>CA</td>\n",
       "      <td>California</td>\n",
       "      <td>Los Angeles</td>\n",
       "      <td>Crude prevalence</td>\n",
       "      <td>%</td>\n",
       "      <td>10.0</td>\n",
       "      <td>3792621</td>\n",
       "      <td>189728</td>\n",
       "      <td>84217</td>\n",
       "    </tr>\n",
       "    <tr>\n",
       "      <th>38</th>\n",
       "      <td>CA</td>\n",
       "      <td>California</td>\n",
       "      <td>Costa Mesa</td>\n",
       "      <td>Age-adjusted prevalence</td>\n",
       "      <td>%</td>\n",
       "      <td>9.0</td>\n",
       "      <td>109960</td>\n",
       "      <td>168957</td>\n",
       "      <td>79604</td>\n",
       "    </tr>\n",
       "    <tr>\n",
       "      <th>78</th>\n",
       "      <td>CA</td>\n",
       "      <td>California</td>\n",
       "      <td>Santa Ana</td>\n",
       "      <td>Age-adjusted prevalence</td>\n",
       "      <td>%</td>\n",
       "      <td>13.8</td>\n",
       "      <td>324528</td>\n",
       "      <td>172734</td>\n",
       "      <td>78612</td>\n",
       "    </tr>\n",
       "    <tr>\n",
       "      <th>129</th>\n",
       "      <td>FL</td>\n",
       "      <td>Florida</td>\n",
       "      <td>Coral Springs</td>\n",
       "      <td>Age-adjusted prevalence</td>\n",
       "      <td>%</td>\n",
       "      <td>8.6</td>\n",
       "      <td>121096</td>\n",
       "      <td>150858</td>\n",
       "      <td>80583</td>\n",
       "    </tr>\n",
       "    <tr>\n",
       "      <th>171</th>\n",
       "      <td>MI</td>\n",
       "      <td>Michigan</td>\n",
       "      <td>Detroit</td>\n",
       "      <td>Crude prevalence</td>\n",
       "      <td>%</td>\n",
       "      <td>18.3</td>\n",
       "      <td>713777</td>\n",
       "      <td>36811</td>\n",
       "      <td>37336</td>\n",
       "    </tr>\n",
       "    <tr>\n",
       "      <th>174</th>\n",
       "      <td>MI</td>\n",
       "      <td>Michigan</td>\n",
       "      <td>Flint</td>\n",
       "      <td>Crude prevalence</td>\n",
       "      <td>%</td>\n",
       "      <td>17.2</td>\n",
       "      <td>102434</td>\n",
       "      <td>70076</td>\n",
       "      <td>33903</td>\n",
       "    </tr>\n",
       "    <tr>\n",
       "      <th>192</th>\n",
       "      <td>NJ</td>\n",
       "      <td>New Jersey</td>\n",
       "      <td>Passaic</td>\n",
       "      <td>Age-adjusted prevalence</td>\n",
       "      <td>%</td>\n",
       "      <td>17.0</td>\n",
       "      <td>69781</td>\n",
       "      <td>132678</td>\n",
       "      <td>75406</td>\n",
       "    </tr>\n",
       "    <tr>\n",
       "      <th>193</th>\n",
       "      <td>NJ</td>\n",
       "      <td>New Jersey</td>\n",
       "      <td>Paterson</td>\n",
       "      <td>Age-adjusted prevalence</td>\n",
       "      <td>%</td>\n",
       "      <td>16.8</td>\n",
       "      <td>146199</td>\n",
       "      <td>89314</td>\n",
       "      <td>57122</td>\n",
       "    </tr>\n",
       "    <tr>\n",
       "      <th>202</th>\n",
       "      <td>NY</td>\n",
       "      <td>New York</td>\n",
       "      <td>New Rochelle</td>\n",
       "      <td>Crude prevalence</td>\n",
       "      <td>%</td>\n",
       "      <td>10.0</td>\n",
       "      <td>77062</td>\n",
       "      <td>150034</td>\n",
       "      <td>83563</td>\n",
       "    </tr>\n",
       "    <tr>\n",
       "      <th>225</th>\n",
       "      <td>TX</td>\n",
       "      <td>Texas</td>\n",
       "      <td>Pharr</td>\n",
       "      <td>Age-adjusted prevalence</td>\n",
       "      <td>%</td>\n",
       "      <td>18.0</td>\n",
       "      <td>70400</td>\n",
       "      <td>28217</td>\n",
       "      <td>20964</td>\n",
       "    </tr>\n",
       "    <tr>\n",
       "      <th>230</th>\n",
       "      <td>TX</td>\n",
       "      <td>Texas</td>\n",
       "      <td>Brownsville</td>\n",
       "      <td>Crude prevalence</td>\n",
       "      <td>%</td>\n",
       "      <td>17.4</td>\n",
       "      <td>175023</td>\n",
       "      <td>32677</td>\n",
       "      <td>28582</td>\n",
       "    </tr>\n",
       "    <tr>\n",
       "      <th>232</th>\n",
       "      <td>TX</td>\n",
       "      <td>Texas</td>\n",
       "      <td>Sugar Land</td>\n",
       "      <td>Age-adjusted prevalence</td>\n",
       "      <td>%</td>\n",
       "      <td>9.3</td>\n",
       "      <td>78817</td>\n",
       "      <td>159750</td>\n",
       "      <td>69908</td>\n",
       "    </tr>\n",
       "  </tbody>\n",
       "</table>\n",
       "</div>"
      ],
      "text/plain": [
       "    State_ab  State_Name           City          Data_Value_Type  \\\n",
       "1         AL     Alabama     Birmingham  Age-adjusted prevalence   \n",
       "25        CA  California    Los Angeles         Crude prevalence   \n",
       "38        CA  California     Costa Mesa  Age-adjusted prevalence   \n",
       "78        CA  California      Santa Ana  Age-adjusted prevalence   \n",
       "129       FL     Florida  Coral Springs  Age-adjusted prevalence   \n",
       "171       MI    Michigan        Detroit         Crude prevalence   \n",
       "174       MI    Michigan          Flint         Crude prevalence   \n",
       "192       NJ  New Jersey        Passaic  Age-adjusted prevalence   \n",
       "193       NJ  New Jersey       Paterson  Age-adjusted prevalence   \n",
       "202       NY    New York   New Rochelle         Crude prevalence   \n",
       "225       TX       Texas          Pharr  Age-adjusted prevalence   \n",
       "230       TX       Texas    Brownsville         Crude prevalence   \n",
       "232       TX       Texas     Sugar Land  Age-adjusted prevalence   \n",
       "\n",
       "    Data_Value_Unit  Data_Value  PopulationCount    Mean  Stdev  \n",
       "1                 %        16.2           212237   50662  43229  \n",
       "25                %        10.0          3792621  189728  84217  \n",
       "38                %         9.0           109960  168957  79604  \n",
       "78                %        13.8           324528  172734  78612  \n",
       "129               %         8.6           121096  150858  80583  \n",
       "171               %        18.3           713777   36811  37336  \n",
       "174               %        17.2           102434   70076  33903  \n",
       "192               %        17.0            69781  132678  75406  \n",
       "193               %        16.8           146199   89314  57122  \n",
       "202               %        10.0            77062  150034  83563  \n",
       "225               %        18.0            70400   28217  20964  \n",
       "230               %        17.4           175023   32677  28582  \n",
       "232               %         9.3            78817  159750  69908  "
      ]
     },
     "execution_count": 26,
     "metadata": {},
     "output_type": "execute_result"
    }
   ],
   "source": [
    "outliers = df.loc[(df['Data_Value'] > 16) | (df['Mean'] >= 150000)]\n",
    "outliers"
   ]
  },
  {
   "cell_type": "markdown",
   "metadata": {},
   "source": [
    "These are the table results where either the data value or the average income are outside of the intervals described by the boxplot. Let's plot them."
   ]
  },
  {
   "cell_type": "code",
   "execution_count": 27,
   "metadata": {},
   "outputs": [
    {
     "data": {
      "text/plain": [
       "Text(0, 0.5, 'Percentage of Diabetes')"
      ]
     },
     "execution_count": 27,
     "metadata": {},
     "output_type": "execute_result"
    },
    {
     "data": {
      "image/png": "[encoded data removed]",
      "text/plain": [
       "<Figure size 864x360 with 1 Axes>"
      ]
     },
     "metadata": {},
     "output_type": "display_data"
    }
   ],
   "source": [
    "plt.scatter(outliers['Mean'].values, outliers['Data_Value'].values)\n",
    "plt.xlabel(\"Mean\")\n",
    "plt.ylabel(\"Percentage of Diabetes\")"
   ]
  },
  {
   "cell_type": "markdown",
   "metadata": {},
   "source": [
    "Visually, these appear to be outliers in both directions. Let's see how the correlation changes when we remove them from the data set."
   ]
  },
  {
   "cell_type": "code",
   "execution_count": 28,
   "metadata": {},
   "outputs": [
    {
     "data": {
      "text/html": [
       "<div>\n",
       "<style scoped>\n",
       "    .dataframe tbody tr th:only-of-type {\n",
       "        vertical-align: middle;\n",
       "    }\n",
       "\n",
       "    .dataframe tbody tr th {\n",
       "        vertical-align: top;\n",
       "    }\n",
       "\n",
       "    .dataframe thead th {\n",
       "        text-align: right;\n",
       "    }\n",
       "</style>\n",
       "<table border=\"1\" class=\"dataframe\">\n",
       "  <thead>\n",
       "    <tr style=\"text-align: right;\">\n",
       "      <th></th>\n",
       "      <th>State_ab</th>\n",
       "      <th>State_Name</th>\n",
       "      <th>City</th>\n",
       "      <th>Data_Value_Type</th>\n",
       "      <th>Data_Value_Unit</th>\n",
       "      <th>Data_Value</th>\n",
       "      <th>PopulationCount</th>\n",
       "      <th>Mean</th>\n",
       "      <th>Stdev</th>\n",
       "    </tr>\n",
       "  </thead>\n",
       "  <tbody>\n",
       "    <tr>\n",
       "      <th>0</th>\n",
       "      <td>AK</td>\n",
       "      <td>Alaska</td>\n",
       "      <td>Anchorage</td>\n",
       "      <td>Crude prevalence</td>\n",
       "      <td>%</td>\n",
       "      <td>7.3</td>\n",
       "      <td>291826</td>\n",
       "      <td>77110</td>\n",
       "      <td>54957</td>\n",
       "    </tr>\n",
       "    <tr>\n",
       "      <th>2</th>\n",
       "      <td>AL</td>\n",
       "      <td>Alabama</td>\n",
       "      <td>Hoover</td>\n",
       "      <td>Age-adjusted prevalence</td>\n",
       "      <td>%</td>\n",
       "      <td>8.1</td>\n",
       "      <td>81619</td>\n",
       "      <td>118301</td>\n",
       "      <td>67248</td>\n",
       "    </tr>\n",
       "    <tr>\n",
       "      <th>3</th>\n",
       "      <td>AL</td>\n",
       "      <td>Alabama</td>\n",
       "      <td>Mobile</td>\n",
       "      <td>Age-adjusted prevalence</td>\n",
       "      <td>%</td>\n",
       "      <td>13.5</td>\n",
       "      <td>195111</td>\n",
       "      <td>53330</td>\n",
       "      <td>50855</td>\n",
       "    </tr>\n",
       "    <tr>\n",
       "      <th>4</th>\n",
       "      <td>AL</td>\n",
       "      <td>Alabama</td>\n",
       "      <td>Tuscaloosa</td>\n",
       "      <td>Crude prevalence</td>\n",
       "      <td>%</td>\n",
       "      <td>10.2</td>\n",
       "      <td>90468</td>\n",
       "      <td>55815</td>\n",
       "      <td>54867</td>\n",
       "    </tr>\n",
       "    <tr>\n",
       "      <th>5</th>\n",
       "      <td>AR</td>\n",
       "      <td>Arkansas</td>\n",
       "      <td>Springdale</td>\n",
       "      <td>Crude prevalence</td>\n",
       "      <td>%</td>\n",
       "      <td>9.8</td>\n",
       "      <td>69797</td>\n",
       "      <td>68276</td>\n",
       "      <td>66109</td>\n",
       "    </tr>\n",
       "    <tr>\n",
       "      <th>...</th>\n",
       "      <td>...</td>\n",
       "      <td>...</td>\n",
       "      <td>...</td>\n",
       "      <td>...</td>\n",
       "      <td>...</td>\n",
       "      <td>...</td>\n",
       "      <td>...</td>\n",
       "      <td>...</td>\n",
       "      <td>...</td>\n",
       "    </tr>\n",
       "    <tr>\n",
       "      <th>269</th>\n",
       "      <td>WA</td>\n",
       "      <td>Washington</td>\n",
       "      <td>Yakima</td>\n",
       "      <td>Crude prevalence</td>\n",
       "      <td>%</td>\n",
       "      <td>11.8</td>\n",
       "      <td>91067</td>\n",
       "      <td>89816</td>\n",
       "      <td>48414</td>\n",
       "    </tr>\n",
       "    <tr>\n",
       "      <th>270</th>\n",
       "      <td>WI</td>\n",
       "      <td>Wisconsin</td>\n",
       "      <td>Milwaukee</td>\n",
       "      <td>Age-adjusted prevalence</td>\n",
       "      <td>%</td>\n",
       "      <td>11.3</td>\n",
       "      <td>594833</td>\n",
       "      <td>78720</td>\n",
       "      <td>47064</td>\n",
       "    </tr>\n",
       "    <tr>\n",
       "      <th>271</th>\n",
       "      <td>WI</td>\n",
       "      <td>Wisconsin</td>\n",
       "      <td>Kenosha</td>\n",
       "      <td>Crude prevalence</td>\n",
       "      <td>%</td>\n",
       "      <td>8.4</td>\n",
       "      <td>99218</td>\n",
       "      <td>61404</td>\n",
       "      <td>35324</td>\n",
       "    </tr>\n",
       "    <tr>\n",
       "      <th>272</th>\n",
       "      <td>WI</td>\n",
       "      <td>Wisconsin</td>\n",
       "      <td>Waukesha</td>\n",
       "      <td>Crude prevalence</td>\n",
       "      <td>%</td>\n",
       "      <td>7.1</td>\n",
       "      <td>70718</td>\n",
       "      <td>98823</td>\n",
       "      <td>56923</td>\n",
       "    </tr>\n",
       "    <tr>\n",
       "      <th>273</th>\n",
       "      <td>WI</td>\n",
       "      <td>Wisconsin</td>\n",
       "      <td>Green Bay</td>\n",
       "      <td>Age-adjusted prevalence</td>\n",
       "      <td>%</td>\n",
       "      <td>8.9</td>\n",
       "      <td>104057</td>\n",
       "      <td>74640</td>\n",
       "      <td>49104</td>\n",
       "    </tr>\n",
       "  </tbody>\n",
       "</table>\n",
       "<p>261 rows × 9 columns</p>\n",
       "</div>"
      ],
      "text/plain": [
       "    State_ab  State_Name        City          Data_Value_Type Data_Value_Unit  \\\n",
       "0         AK      Alaska   Anchorage         Crude prevalence               %   \n",
       "2         AL     Alabama      Hoover  Age-adjusted prevalence               %   \n",
       "3         AL     Alabama      Mobile  Age-adjusted prevalence               %   \n",
       "4         AL     Alabama  Tuscaloosa         Crude prevalence               %   \n",
       "5         AR    Arkansas  Springdale         Crude prevalence               %   \n",
       "..       ...         ...         ...                      ...             ...   \n",
       "269       WA  Washington      Yakima         Crude prevalence               %   \n",
       "270       WI   Wisconsin   Milwaukee  Age-adjusted prevalence               %   \n",
       "271       WI   Wisconsin     Kenosha         Crude prevalence               %   \n",
       "272       WI   Wisconsin    Waukesha         Crude prevalence               %   \n",
       "273       WI   Wisconsin   Green Bay  Age-adjusted prevalence               %   \n",
       "\n",
       "     Data_Value  PopulationCount    Mean  Stdev  \n",
       "0           7.3           291826   77110  54957  \n",
       "2           8.1            81619  118301  67248  \n",
       "3          13.5           195111   53330  50855  \n",
       "4          10.2            90468   55815  54867  \n",
       "5           9.8            69797   68276  66109  \n",
       "..          ...              ...     ...    ...  \n",
       "269        11.8            91067   89816  48414  \n",
       "270        11.3           594833   78720  47064  \n",
       "271         8.4            99218   61404  35324  \n",
       "272         7.1            70718   98823  56923  \n",
       "273         8.9           104057   74640  49104  \n",
       "\n",
       "[261 rows x 9 columns]"
      ]
     },
     "execution_count": 28,
     "metadata": {},
     "output_type": "execute_result"
    }
   ],
   "source": [
    "df_no_outliers = df[(df['Data_Value'] < 16) & (df['Mean'] < 150000)]\n",
    "df_no_outliers"
   ]
  },
  {
   "cell_type": "code",
   "execution_count": 29,
   "metadata": {},
   "outputs": [
    {
     "data": {
      "text/plain": [
       "Text(0, 0.5, 'Percentage of Diabetes')"
      ]
     },
     "execution_count": 29,
     "metadata": {},
     "output_type": "execute_result"
    },
    {
     "data": {
      "image/png": "[encoded data removed]",
      "text/plain": [
       "<Figure size 864x360 with 1 Axes>"
      ]
     },
     "metadata": {},
     "output_type": "display_data"
    }
   ],
   "source": [
    "plt.scatter(df_no_outliers['Mean'].values, df_no_outliers['Data_Value'].values)\n",
    "plt.xlabel(\"Mean Income\")\n",
    "plt.ylabel(\"Percentage of Diabetes\")"
   ]
  },
  {
   "cell_type": "code",
   "execution_count": 30,
   "metadata": {},
   "outputs": [
    {
     "data": {
      "text/plain": [
       "array([[ 1.        , -0.32195793],\n",
       "       [-0.32195793,  1.        ]])"
      ]
     },
     "execution_count": 30,
     "metadata": {},
     "output_type": "execute_result"
    }
   ],
   "source": [
    "corr_matrix = np.corrcoef(df_no_outliers['Data_Value'], df_no_outliers['Mean'])\n",
    "corr_matrix"
   ]
  },
  {
   "cell_type": "markdown",
   "metadata": {},
   "source": [
    "our correlation between mean income and percentage of diabetes has increased to -0.32, so we will permenantly delete these outliers from our test data set."
   ]
  },
  {
   "cell_type": "code",
   "execution_count": 31,
   "metadata": {},
   "outputs": [],
   "source": [
    "df = df_no_outliers"
   ]
  },
  {
   "cell_type": "markdown",
   "metadata": {},
   "source": [
    "From this, we'll get the r value to understand what proportion of the variance is shared between the two variables."
   ]
  },
  {
   "cell_type": "code",
   "execution_count": 32,
   "metadata": {},
   "outputs": [
    {
     "data": {
      "text/plain": [
       "-0.32195792608378515"
      ]
     },
     "execution_count": 32,
     "metadata": {},
     "output_type": "execute_result"
    }
   ],
   "source": [
    "corr = corr_matrix[0,1]\n",
    "corr\n"
   ]
  },
  {
   "cell_type": "code",
   "execution_count": 33,
   "metadata": {},
   "outputs": [
    {
     "data": {
      "text/plain": [
       "0.10365690616817207"
      ]
     },
     "execution_count": 33,
     "metadata": {},
     "output_type": "execute_result"
    }
   ],
   "source": [
    "r_squared = corr**2\n",
    "r_squared"
   ]
  },
  {
   "cell_type": "markdown",
   "metadata": {},
   "source": [
    "This value may seem small, but let's see if it passes the correlation test with alpha level 0.01, which is more telling than just looking at the scatter plot"
   ]
  },
  {
   "cell_type": "code",
   "execution_count": 34,
   "metadata": {},
   "outputs": [
    {
     "data": {
      "text/plain": [
       "(-0.3219579260837851, 1.0450266512791932e-07)"
      ]
     },
     "execution_count": 34,
     "metadata": {},
     "output_type": "execute_result"
    }
   ],
   "source": [
    "from scipy.stats.stats import pearsonr\n",
    "\n",
    "pearsonr(df[\"Data_Value\"], df[\"Mean\"])\n"
   ]
  },
  {
   "cell_type": "markdown",
   "metadata": {},
   "source": [
    "According to the Pearsons R test, our value of -0.322 shows moderate correlation between the two variables and since the corresponding p value is less than our alpha level of 0.01 we can conclude that our results are statistically significant. However, quanitifying a relationship between the two variables using Pearson's correlation coefficient is only one part of understanding the complete relationship between median income and adults with diabetes in American cities.\n",
    "To further our deep dive into this relationship, we must draw conclusions about populations and not just samples so we must conduct other statistical significance tests."
   ]
  },
  {
   "cell_type": "markdown",
   "metadata": {},
   "source": [
    "## Significance Testing"
   ]
  },
  {
   "cell_type": "markdown",
   "metadata": {},
   "source": [
    "A significance test teslls us whether or not what we observe in the sample is expected to be true across all of the population. This can be done through a hypothesis test."
   ]
  },
  {
   "cell_type": "markdown",
   "metadata": {},
   "source": [
    "Here we are importaing all of the packages that we will use to run the significance tests in this section"
   ]
  },
  {
   "cell_type": "code",
   "execution_count": 35,
   "metadata": {},
   "outputs": [],
   "source": [
    "#import scipy.stats to access the t-test function that allows us to\n",
    "#conduct our hypothesis testing\n",
    "import scipy.stats as stats\n",
    "from scipy.stats import ttest_ind"
   ]
  },
  {
   "cell_type": "markdown",
   "metadata": {},
   "source": [
    "### Hypothesis Test"
   ]
  },
  {
   "cell_type": "markdown",
   "metadata": {},
   "source": [
    "A hypothesis test helps us infer whether the value of the population correlation coefficient $\\rho$ is close to or very different from 0. This inference is decided based on the sample correlation coefficient r and the sample size n."
   ]
  },
  {
   "cell_type": "markdown",
   "metadata": {},
   "source": [
    "$H_{0}$ ($\\rho$ = 0): There is no correlation between median income and rate of diabetes diagnosis.\\\n",
    "$H_{a}$ ($\\rho$ != 0): Rate of diabetes diagnosis is inversely proportional to median income."
   ]
  },
  {
   "cell_type": "markdown",
   "metadata": {},
   "source": [
    "### T-test"
   ]
  },
  {
   "cell_type": "markdown",
   "metadata": {},
   "source": [
    "A T-test is an inferential statistic that allows us to use sample data to generalize an assumption to an entire population. This will help us find out if the sample correlation between median income and adults with diabetes is repeatable for the entire population"
   ]
  },
  {
   "cell_type": "code",
   "execution_count": 36,
   "metadata": {},
   "outputs": [],
   "source": [
    "#Runs a t-test using stats.ttest_ind from scipy.stats\n",
    "#saves the t-value to t_val and saves the p-value to p_val\n",
    "[t_val, p_val] = stats.ttest_ind(df['Data_Value'], df['Mean'])"
   ]
  },
  {
   "cell_type": "markdown",
   "metadata": {},
   "source": [
    "#### T-value"
   ]
  },
  {
   "cell_type": "markdown",
   "metadata": {},
   "source": [
    "From the t-test above we get the t-value to be:"
   ]
  },
  {
   "cell_type": "code",
   "execution_count": 37,
   "metadata": {},
   "outputs": [
    {
     "data": {
      "text/plain": [
       "-49.19021179782787"
      ]
     },
     "execution_count": 37,
     "metadata": {},
     "output_type": "execute_result"
    }
   ],
   "source": [
    "t_val"
   ]
  },
  {
   "cell_type": "markdown",
   "metadata": {},
   "source": [
    "In t-tests, the bigger the t-value, the more likely that the correlation is repeatable. The \"bigness\" of the t-value is subjective so we must calculate the p-value to tell us how big is \"big enough\""
   ]
  },
  {
   "cell_type": "markdown",
   "metadata": {},
   "source": [
    "#### P-value"
   ]
  },
  {
   "cell_type": "markdown",
   "metadata": {},
   "source": [
    "Every t-test has one t-value and one p-value. A p-value is the probability that the null hypothesis is true, which is the probability that there is no correlation between median household income and adults with diabetes in American cities.\n",
    "\n",
    "E.g. A p-value of 0.05 means there is a 5% chance results from the dataset occurred to chance and there is no correlation."
   ]
  },
  {
   "cell_type": "markdown",
   "metadata": {},
   "source": [
    "From the t-test above we get the t-value to be:"
   ]
  },
  {
   "cell_type": "code",
   "execution_count": 38,
   "metadata": {},
   "outputs": [
    {
     "data": {
      "text/plain": [
       "9.745275026264399e-198"
      ]
     },
     "execution_count": 38,
     "metadata": {},
     "output_type": "execute_result"
    }
   ],
   "source": [
    "p_val"
   ]
  },
  {
   "cell_type": "markdown",
   "metadata": {},
   "source": [
    "#### Decision"
   ]
  },
  {
   "cell_type": "markdown",
   "metadata": {},
   "source": [
    "To decide whether we reject the null hypothesis in favor of the alternative, we must use the previouse t-values and p-values to see if our correlation is statistically significant."
   ]
  },
  {
   "cell_type": "markdown",
   "metadata": {},
   "source": [
    "In most research the threshold for significance is which there is a p-value of 0.05 or below. Significance levels like these are refered to as $\\alpha$. For our data, we want to be extra sure that our data did not occur just by chance, so we will have our significance level be an $\\alpha$ value of 0.01 This indicates that a our data would be statistically significant if \n",
    "($\\alpha$ = 0.01) and (p-value < $\\alpha$)"
   ]
  },
  {
   "cell_type": "markdown",
   "metadata": {},
   "source": [
    "We can check that here:"
   ]
  },
  {
   "cell_type": "code",
   "execution_count": 52,
   "metadata": {},
   "outputs": [
    {
     "data": {
      "text/plain": [
       "True"
      ]
     },
     "execution_count": 52,
     "metadata": {},
     "output_type": "execute_result"
    }
   ],
   "source": [
    "#Check whether our p-value from above is less than the significance level(alpha) of 0.01\n",
    "alpha = 0.01\n",
    "stat_sig = (p_val < alpha)\n",
    "stat_sig"
   ]
  },
  {
   "cell_type": "markdown",
   "metadata": {},
   "source": [
    "As we can see, our p-value of 2.09e-189 is way below our significance level of $\\alpha$ = 0.01 meaning that our data is statistically significant and there is a real correlation between median household income and adults with diabetes in American cities. \n",
    "\n",
    "From this, we can now comfortably reject the null hypothesis in favor of the alternative:"
   ]
  },
  {
   "cell_type": "markdown",
   "metadata": {},
   "source": [
    "~~$H_{0}$: There is no correlation between median income and rate of diabetes diagnosis.~~ \n",
    "\n",
    "__$H_{a}$: Rate of diabetes diagnosis is inversely proportional to median income.__"
   ]
  },
  {
   "cell_type": "markdown",
   "metadata": {},
   "source": [
    "\n",
    "\n",
    "### Linear Regression"
   ]
  },
  {
   "cell_type": "markdown",
   "metadata": {},
   "source": [
    "Using linear regression, we hope to fit a line to the data. Therefore, the model takes the form y=ax+b, or $y = a_{0} + a_{1}x_{1}$"
   ]
  },
  {
   "cell_type": "code",
   "execution_count": 53,
   "metadata": {},
   "outputs": [],
   "source": [
    "# Statmodels & patsy\n",
    "import patsy\n",
    "import statsmodels.api as sm"
   ]
  },
  {
   "cell_type": "code",
   "execution_count": 54,
   "metadata": {},
   "outputs": [],
   "source": [
    "# Use patsy to organize our data into predictor and outputs\n",
    "#   The string `Data_Value ~ Mean` indicates to predict Data_Value (Percentage of Diabetes) as a function of Mean (Mean income)\n",
    "outcome, predictors = patsy.dmatrices('Data_Value ~ Mean', df)"
   ]
  },
  {
   "cell_type": "code",
   "execution_count": 55,
   "metadata": {},
   "outputs": [],
   "source": [
    "# Initialize an OLS model object\n",
    "#   Note: This initializes the model, and provides the data \n",
    "#         but does not actually compute the model yet\n",
    "model = sm.OLS(outcome, predictors)"
   ]
  },
  {
   "cell_type": "code",
   "execution_count": 56,
   "metadata": {},
   "outputs": [],
   "source": [
    "# Finally, fit the model\n",
    "results = model.fit()"
   ]
  },
  {
   "cell_type": "code",
   "execution_count": 57,
   "metadata": {},
   "outputs": [
    {
     "name": "stdout",
     "output_type": "stream",
     "text": [
      "                            OLS Regression Results                            \n",
      "==============================================================================\n",
      "Dep. Variable:             Data_Value   R-squared:                       0.104\n",
      "Model:                            OLS   Adj. R-squared:                  0.100\n",
      "Method:                 Least Squares   F-statistic:                     29.95\n",
      "Date:                Wed, 22 Mar 2023   Prob (F-statistic):           1.05e-07\n",
      "Time:                        07:10:49   Log-Likelihood:                -550.70\n",
      "No. Observations:                 261   AIC:                             1105.\n",
      "Df Residuals:                     259   BIC:                             1113.\n",
      "Df Model:                           1                                         \n",
      "Covariance Type:            nonrobust                                         \n",
      "==============================================================================\n",
      "                 coef    std err          t      P>|t|      [0.025      0.975]\n",
      "------------------------------------------------------------------------------\n",
      "Intercept     11.9565      0.398     30.029      0.000      11.172      12.741\n",
      "Mean       -2.615e-05   4.78e-06     -5.473      0.000   -3.56e-05   -1.67e-05\n",
      "==============================================================================\n",
      "Omnibus:                        0.149   Durbin-Watson:                   1.596\n",
      "Prob(Omnibus):                  0.928   Jarque-Bera (JB):                0.079\n",
      "Skew:                           0.042   Prob(JB):                        0.961\n",
      "Kurtosis:                       3.014   Cond. No.                     2.68e+05\n",
      "==============================================================================\n",
      "\n",
      "Notes:\n",
      "[1] Standard Errors assume that the covariance matrix of the errors is correctly specified.\n",
      "[2] The condition number is large, 2.68e+05. This might indicate that there are\n",
      "strong multicollinearity or other numerical problems.\n"
     ]
    }
   ],
   "source": [
    "# Check out the results\n",
    "print(results.summary())"
   ]
  },
  {
   "cell_type": "markdown",
   "metadata": {},
   "source": [
    "This shows the parameters for our model are 11.95 for $a_{0}$ and 2.615e-05 for $a_{1}$, so our model is $y = 11.95 + 2.615e-05x_{1}$"
   ]
  },
  {
   "cell_type": "code",
   "execution_count": 59,
   "metadata": {},
   "outputs": [
    {
     "data": {
      "text/plain": [
       "[<matplotlib.lines.Line2D at 0x7f2b7d6c6b80>]"
      ]
     },
     "execution_count": 59,
     "metadata": {},
     "output_type": "execute_result"
    },
    {
     "data": {
      "image/png": "[encoded data removed]",
      "text/plain": [
       "<Figure size 864x360 with 1 Axes>"
      ]
     },
     "metadata": {},
     "output_type": "display_data"
    }
   ],
   "source": [
    "#replotting the data\n",
    "plt.scatter(df['Mean'].values, df['Data_Value'].values)\n",
    "plt.xlabel(\"Mean Income\")\n",
    "plt.ylabel(\"Percentage of Diabetes\")\n",
    "# Generate and plot the model fit line\n",
    "xs = np.arange(df['Mean'].min(), df['Mean'].max())\n",
    "ys = 11.9565 + -2.615e-05 * xs\n",
    "plt.plot(xs, ys, '--k', linewidth=4, label='Model')"
   ]
  },
  {
   "cell_type": "markdown",
   "metadata": {},
   "source": [
    "The model can then be used for predicting diabetes rates based on new data"
   ]
  },
  {
   "cell_type": "markdown",
   "metadata": {},
   "source": [
    "## Ethics & Privacy"
   ]
  },
  {
   "cell_type": "markdown",
   "metadata": {},
   "source": [
    "Ethics and privacy are critical considerations in any data science project, including the correlation between median income and the percentage of adults with diabetes in America. One of the primary ethical concerns in this area is the potential for bias in the data collection and analysis process. This could arise from various sources, such as sampling bias, data selection bias, or model bias. Additionally, there is a risk of privacy violation when personal information is collected and used without the consent of the individuals concerned. These ethical concerns must be taken seriously and managed appropriately throughout the data science process. To address potential biases and privacy concerns, our group took several steps. First, we examined the data sets to ensure that they were representative and unbiased. We also considered the ethical implications of our research question and made sure that we were not unintentionally perpetuating stereotypes or biases. Finally, we took steps to protect the privacy of individuals by gathering anonymized data and ensuring that we did not share or use it for purposes beyond our research.\n",
    "\n",
    "There are potential biases in our dataset, including the exclusion of some populations, such as homeless individuals or those without access to healthcare. Additionally, the data may reflect human biases in terms of race, ethnicity, or gender. To detect these biases, we plan to conduct a thorough analysis of the data and use machine learning algorithms to identify any potential biases in our models.\n",
    "\n",
    "In terms of data privacy and equitable impact, our analysis could potentially impact individuals with diabetes, particularly those from disadvantaged backgrounds. To address this, we will be transparent about our research and its potential impact. We will also take steps to ensure that our findings are used in a responsible and equitable way, and that they are not used to discriminate against individuals or groups."
   ]
  },
  {
   "cell_type": "markdown",
   "metadata": {},
   "source": [
    "## Conclusion & Discussion"
   ]
  },
  {
   "cell_type": "markdown",
   "metadata": {},
   "source": [
    "By first organizing our data and then performing correlational tests on the results, we were able to confirm that there is a relationship between mean income in a city and it's diabetic rate. Because of this, we could move forward and perform tests on the data to better understand this relationship. We found through a T-test that our data was statistically significant and therefore decided to reject our null hypothesis. Based on our tests, we have shown that the rate of diabetes diagnosis is inversly proportional to median income with over 99% confidence. We then took this information to create a linear regression in order to predict future daiabetes rates based on income.\n",
    "\n",
    "This research is important because health risks and their relationship to poverty and low income households is an incredibly large problem worldwide. In America, where healthcare is not free, a family with low income cannot necesarily afford insulin, especially with it's incredibly high price. Bringing awareness to this issue is necesary to understand why universally accessible healthcare is so important, and the data shows the truth that low income and high diabetes rates are in fact correlated."
   ]
  },
  {
   "cell_type": "code",
   "execution_count": null,
   "metadata": {},
   "outputs": [],
   "source": []
  }
 ],
 "metadata": {
  "kernelspec": {
   "display_name": "Python 3 (ipykernel)",
   "language": "python",
   "name": "python3"
  },
  "language_info": {
   "codemirror_mode": {
    "name": "ipython",
    "version": 3
   },
   "file_extension": ".py",
   "mimetype": "text/x-python",
   "name": "python",
   "nbconvert_exporter": "python",
   "pygments_lexer": "ipython3",
   "version": "3.11.0"
  }
 },
 "nbformat": 4,
 "nbformat_minor": 2
}
