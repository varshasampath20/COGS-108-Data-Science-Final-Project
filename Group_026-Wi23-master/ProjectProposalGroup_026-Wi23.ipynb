{
 "cells": [
  {
   "cell_type": "markdown",
   "metadata": {},
   "source": [
    "# COGS 108 - Final Project Proposal"
   ]
  },
  {
   "cell_type": "markdown",
   "metadata": {},
   "source": [
    "# Names\n",
    "\n",
    "- Varsha Sampath\n",
    "- Elise Davis\n",
    "- Kody Chuang\n",
    "- Anna Sim"
   ]
  },
  {
   "cell_type": "markdown",
   "metadata": {},
   "source": [
    "# Research Question"
   ]
  },
  {
   "cell_type": "markdown",
   "metadata": {},
   "source": [
    "What is the correlation between median income and percentage of adults with diabetes in different American cities?\n",
    "\n"
   ]
  },
  {
   "cell_type": "markdown",
   "metadata": {},
   "source": [
    "## Background and Prior Work"
   ]
  },
  {
   "cell_type": "markdown",
   "metadata": {},
   "source": [
    "\n",
    "Extensive research on diabetes shows that it is one of the most prevalent issues affecting people in the US. According to the National Diabetes Statistics Report of 2022, diabetes affects 11.3 % of the US population[1]. In 2021 more than 100,000 people died because of diabetes and relative complications, making it the eighth leading cause of death according to the CDC [2]. \n",
    "\n",
    "In 2017 American Diabetes Association (ADA) estimated that the total cost of diabetes for the healthcare system was $327 billion compared to $245 billion in 2012. It is a 26% increase over the five-year period[5].\n",
    "\n",
    "Additionally, diabetes disproportionately affects low-income households. The CDC reports that the comparative statistics on people from middle-income, near-poor, and poor households are 40.0%, 74.1%, and 100.4%[3]. 2020 Review on Social Determinants of Diabetes states that three major factors contributing to the risk of diabetes are education, income, and occupation[4]. \n",
    "\n",
    " The number of people who are diagnosed with diabetes is rising every year. CDC report on 'Disparities in the Prevalence of Diagnosed Diabetes'' in the US shows that the number of people with diabetes has significantly increased when comparing 1999–2002 to 2011–2014[3].\n",
    "\n",
    "The literature review showed that several studies looked at the relationship between socioeconomic status and the risk of diabetes in different countries. For example, a 2001 study: 'Socioeconomic status and type 2 diabetes in African American and non-Hispanic white women and men: evidence from the Third National Health and Nutrition Examination Survey,' showed a significant association between Type 2 Diabetes and socioeconomic status[6] . Additionally, Type 2 diabetes has a stronger association with Poverty Income Ratio than with education or occupation[6].\n",
    "In the last few years, more and more data is becoming available, and there is an ongoing demand for continuous analysis of this public health issue.\n",
    "We examined the relationship between median household income in the major US cities and the number of people with diabetes.\n",
    "\n",
    "Citations:\n",
    "\n",
    "[1] Centers for Disease Control and Prevention. (2022, October 25). By the numbers: Diabetes in America. Centers for Disease Control and Prevention. Retrieved March 5, 2023, from https://www.cdc.gov/diabetes/health-equity/diabetes-by-the-numbers.html\n",
    "\n",
    "[2] Centers for Disease Control and Prevention. (2023, January 18). FASTSTATS - leading causes of death. Centers for Disease Control and Prevention. Retrieved March 5, 2023, from https://www.cdc.gov/nchs/fastats/leading-causes-of-death.htm\n",
    "\n",
    "[5] The cost of diabetes. The Cost of Diabetes | ADA. (n.d.). Retrieved March 5, 2023, from https://diabetes.org/about-us/statistics/cost-diabetes\n",
    "\n",
    "[3] Centers for Disease Control and Prevention. (2017, August 14). Disparities in the prevalence of diagnosed diabetes - United States, 1999–2002 and 2011–2014. Centers for Disease Control and Prevention. Retrieved March 5, 2023, from https://www.cdc.gov/mmwr/volumes/65/wr/mm6545a4.htm\n",
    "\n",
    "[4] Felicia Hill-Briggs, Nancy E. Adler, Seth A. Berkowitz, Marshall H. Chin, Tiffany L. Gary-Webb, Ana Navas-Acien, Pamela L. Thornton, Debra Haire-Joshu; Social Determinants of Health and Diabetes: A Scientific Review. Diabetes Care 1 January 2021; 44 (1): 258–279. https://doi.org/10.2337/dci20-0053\n",
    "\n",
    "[6] Robbins JM, Vaccarino V, Zhang H, Kasl SV. Socioeconomic status and type 2 diabetes in African American and non-Hispanic white women and men: evidence from the Third National Health and Nutrition Examination Survey. Am J Public Health. 2001 Jan;91(1):76-83. doi: 10.2105/ajph.91.1.76. PMID: 11189829; PMCID: PMC1446485.\n",
    "\n"
   ]
  },
  {
   "cell_type": "markdown",
   "metadata": {},
   "source": [
    "# Hypothesis\n"
   ]
  },
  {
   "cell_type": "markdown",
   "metadata": {},
   "source": [
    "Based on our understanding from background research, we hypothesize that cities with a lower median income will have higher rates of diabetes. Our research found that there is a correlation between diabetes and socioeconomic status, most likely because lower income households would have reduced access to healthy foods and adequate healthcare."
   ]
  },
  {
   "cell_type": "markdown",
   "metadata": {},
   "source": [
    "# Data"
   ]
  },
  {
   "cell_type": "markdown",
   "metadata": {},
   "source": [
    "Ideally, an optimal dataset should primarily include variables such as different cities, the median income level in those cities, and their rate of diabetes. Some other potential factors such as age ranges and racial demographics that might act as confounding variables, as indicated in our research, could also be useful. We hope to use a dataset that has well over 10000 observations because it ensures there is enough data to reach an accurate conclusion. The data should be from national information like the CDC or census data to achieve a dataset that has both accurate information and a large number of observations.\n",
    "\n",
    "In order to achieve this, we chose a dataset from the CDC that includes various cities, the diabetes prevalence rates, and their populations. This is a useful dataset because it addresses many of our necessary variables and has around 29,000 observations. However, this dataset is missing the median income level for the different locations, which is a key aspect of our research question. To overcome this, we selected a second dataset that lists the median income level of over 32,500 cities. We can combine these two tables to show us both diabetes rates and income levels for each city, and analyze this to determine a correlation between the two factors.\n",
    "\n",
    "Links to datasets: \n",
    "\n",
    "https://www.kaggle.com/datasets/goldenoakresearch/us-household-income-stats-geo-locations\n",
    "\n",
    "https://chronicdata.cdc.gov/500-Cities-Places/500-Cities-Diagnosed-diabetes-among-adults-aged-18/cn78-b9bj/data \n"
   ]
  },
  {
   "cell_type": "markdown",
   "metadata": {},
   "source": [
    "# Ethics & Privacy"
   ]
  },
  {
   "cell_type": "markdown",
   "metadata": {},
   "source": [
    "Ethics and privacy are critical considerations in any data science project, including the correlation between median income and the percentage of adults with diabetes in America. One of the primary ethical concerns in this area is the potential for bias in the data collection and analysis process. This could arise from various sources, such as sampling bias, data selection bias, or model bias. Additionally, there is a risk of privacy violation when personal information is collected and used without the consent of the individuals concerned. These ethical concerns must be taken seriously and managed appropriately throughout the data science process. To address potential biases and privacy concerns, our group took several steps. First, we examined the data sets to ensure that they were representative and unbiased. We also considered the ethical implications of our research question and made sure that we were not unintentionally perpetuating stereotypes or biases. Finally, we took steps to protect the privacy of individuals by gathering anonymized data and ensuring that we did not share or use it for purposes beyond our research.\n",
    "\n",
    "There are potential biases in our dataset, including the exclusion of some populations, such as homeless individuals or those without access to healthcare. Additionally, the data may reflect human biases in terms of race, ethnicity, or gender. To detect these biases, we plan to conduct a thorough analysis of the data and use machine learning algorithms to identify any potential biases in our models.\n",
    "\n",
    "In terms of data privacy and equitable impact, our analysis could potentially impact individuals with diabetes, particularly those from disadvantaged backgrounds. To address this, we will be transparent about our research and its potential impact. We will also take steps to ensure that our findings are used in a responsible and equitable way, and that they are not used to discriminate against individuals or groups.\n"
   ]
  },
  {
   "cell_type": "markdown",
   "metadata": {},
   "source": [
    "# Team Expectations "
   ]
  },
  {
   "cell_type": "markdown",
   "metadata": {},
   "source": [
    "* *Active participation from all team members is expected throughout the entire project, including contributing equally to each aspect of the project and attending regular meetings to check progress*\n",
    "* *Each team member should be responsible for completing specific sections of the project and meeting the deadlines assigned to them*\n",
    "* *All team members should contribute to the decision-making process regarding the project topic, datasets and data science question.*\n",
    "* *Writing well-commented and clear code, editing the text and code, and writing accompanying text are all essential aspects of the project that each team member should be involved in.*\n",
    "* *Communication is key, and each member should be responsive to emails or other forms of written communication regarding the project and assigned tasks.*\n",
    "* *It is expected that all team members will cooperate and complete their tasks. However, if a team member is non-cooperative or failing to meet their responsibilities, the team should first address the issue with the member directly, followed by notifying the professor if there is no improvement.*"
   ]
  },
  {
   "cell_type": "markdown",
   "metadata": {},
   "source": [
    "# Project Timeline Proposal"
   ]
  },
  {
   "cell_type": "markdown",
   "metadata": {},
   "source": [
    "\n",
    "\n",
    "\n",
    "| Meeting Date  | Meeting Time| Completed Before Meeting  | Discuss at Meeting |\n",
    "|---|---|---|---|\n",
    "| 2/22 |  4 PM | N/A We will discuss and look over the project instructions together  | Determine best form of communication; Look over project; Understand what to do; Brainstorm ideas for topic | \n",
    "| 2/26  |  2 PM |  Brainstorm Ideas for topic; Come with list of 3 topics each | Present topics and decide which topic to do; Discuss topic and find datasets relating to topic | \n",
    "| 2/28  |  4 PM  | Look over COGS108 Team Policies; Fill out group expectations part  | Discuss cleaning methods for data; Dividing up proposal sections; Work on assigned sections   |\n",
    "| 3/2  |  3 PM  | Finish assigned project proposal sections | Put all proposal sections together; Proofread/review others’ sections; Discuss data cleaning methods; Clean datasets to use later (Checkpoint #1)   |\n",
    "| 3/4  |  1 PM  | Individually review Project Proposal/Checkpoint #1 | Submit Project Proposal/Checkpoint #1; Discuss Checkpoint #2   |\n",
    "| 3/8  | 2 PM  | Finish individual Checkpoint #2 wrangling/EDA & analysis | Combine individual parts; Review as a group; Submit? Discuss what needs to be done for final project; Divide work |\n",
    "| 3/12  | 12 PM  | Draft results/conclusion/discussion | Combine work; Review anything missing; complete anything missing |\n",
    "| 3/14  | 3 PM  | Review final project | Finalize written project; discuss video; divide sections for group members to talk about |\n",
    "| 3/19  | 12 PM  | Finish filming individual portion of video | Review individual videos; combine videos for one long video; edit/review video |\n",
    "| 3/24  | Before 11:59 PM  | Individually review project + video | Turn in Final Project & Group Project Surveys |"
   ]
  },
  {
   "cell_type": "code",
   "execution_count": null,
   "metadata": {},
   "outputs": [],
   "source": []
  }
 ],
 "metadata": {
  "kernelspec": {
   "display_name": "Python 3",
   "language": "python",
   "name": "python3"
  },
  "language_info": {
   "codemirror_mode": {
    "name": "ipython",
    "version": 3
   },
   "file_extension": ".py",
   "mimetype": "text/x-python",
   "name": "python",
   "nbconvert_exporter": "python",
   "pygments_lexer": "ipython3",
   "version": "3.8.8"
  }
 },
 "nbformat": 4,
 "nbformat_minor": 2
}
